{
  "nbformat": 4,
  "nbformat_minor": 0,
  "metadata": {
    "colab": {
      "name": "Untitled0.ipynb",
      "provenance": []
    },
    "kernelspec": {
      "name": "python3",
      "display_name": "Python 3"
    }
  },
  "cells": [
    {
      "cell_type": "code",
      "metadata": {
        "id": "FwLW6Ijncjs4",
        "colab_type": "code",
        "colab": {
          "resources": {
            "http://localhost:8080/nbextensions/google.colab/files.js": {
              "data": "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",
              "ok": true,
              "headers": [
                [
                  "content-type",
                  "application/javascript"
                ]
              ],
              "status": 200,
              "status_text": ""
            }
          },
          "base_uri": "https://localhost:8080/",
          "height": 74
        },
        "outputId": "11249f4d-6448-4cc6-b64e-628a21db4810"
      },
      "source": [
        "#upload document to google colab\n",
        "from google.colab import files\n",
        "uploaded = files.upload()"
      ],
      "execution_count": 5,
      "outputs": [
        {
          "output_type": "display_data",
          "data": {
            "text/html": [
              "\n",
              "     <input type=\"file\" id=\"files-b07c5172-8df1-4749-9992-46d5302efc76\" name=\"files[]\" multiple disabled />\n",
              "     <output id=\"result-b07c5172-8df1-4749-9992-46d5302efc76\">\n",
              "      Upload widget is only available when the cell has been executed in the\n",
              "      current browser session. Please rerun this cell to enable.\n",
              "      </output>\n",
              "      <script src=\"/nbextensions/google.colab/files.js\"></script> "
            ],
            "text/plain": [
              "<IPython.core.display.HTML object>"
            ]
          },
          "metadata": {
            "tags": []
          }
        },
        {
          "output_type": "stream",
          "text": [
            "Saving 1996census.csv to 1996census.csv\n"
          ],
          "name": "stdout"
        }
      ]
    },
    {
      "cell_type": "code",
      "metadata": {
        "id": "ovl5hKd2c6FI",
        "colab_type": "code",
        "colab": {}
      },
      "source": [
        "#import libraries\n",
        "import io\n",
        "import pandas as pd\n",
        "import io\n",
        "data = io.BytesIO(uploaded['1996census.csv'])  \n",
        "pddata = pd.read_csv(data) "
      ],
      "execution_count": 0,
      "outputs": []
    },
    {
      "cell_type": "code",
      "metadata": {
        "id": "x926y4tPe154",
        "colab_type": "code",
        "colab": {
          "base_uri": "https://localhost:8080/",
          "height": 34
        },
        "outputId": "4ca1ac0a-2fa4-4469-b9c8-b59351508efc"
      },
      "source": [
        "pddata.shape"
      ],
      "execution_count": 7,
      "outputs": [
        {
          "output_type": "execute_result",
          "data": {
            "text/plain": [
              "(32560, 15)"
            ]
          },
          "metadata": {
            "tags": []
          },
          "execution_count": 7
        }
      ]
    },
    {
      "cell_type": "code",
      "metadata": {
        "id": "DAi44bITe70R",
        "colab_type": "code",
        "colab": {}
      },
      "source": [
        "#turn data into categorical so a decision tree can be used\n",
        "data = pd.get_dummies(pddata,columns=['Worksource','occupation','marrital status','native country','race','sex','relationship'])"
      ],
      "execution_count": 0,
      "outputs": []
    },
    {
      "cell_type": "code",
      "metadata": {
        "id": "TNVdENzDe8Z_",
        "colab_type": "code",
        "colab": {}
      },
      "source": [
        "from sklearn.model_selection import train_test_split"
      ],
      "execution_count": 0,
      "outputs": []
    },
    {
      "cell_type": "code",
      "metadata": {
        "id": "WTEDFTgdfC9u",
        "colab_type": "code",
        "colab": {}
      },
      "source": [
        "#turn to binary the target variable income\n",
        "y = data[' <=50K']\n",
        "y = [0 if x==' <=50K' else 1 for x in y]"
      ],
      "execution_count": 0,
      "outputs": []
    },
    {
      "cell_type": "code",
      "metadata": {
        "id": "6EIbAN9cfF46",
        "colab_type": "code",
        "colab": {}
      },
      "source": [
        "#make the training data\n",
        "x =  data.drop(columns=[' <=50K','Education'])"
      ],
      "execution_count": 0,
      "outputs": []
    },
    {
      "cell_type": "code",
      "metadata": {
        "id": "MEm2MirVfIaS",
        "colab_type": "code",
        "colab": {}
      },
      "source": [
        "#train test splits\n",
        "X_train, X_test, y_train, y_test = train_test_split(x,y,test_size=.2,random_state=10)"
      ],
      "execution_count": 0,
      "outputs": []
    },
    {
      "cell_type": "code",
      "metadata": {
        "id": "42xV7xOhfKsT",
        "colab_type": "code",
        "colab": {}
      },
      "source": [
        "#import classifiers\n",
        "from sklearn.ensemble import RandomForestClassifier\n",
        "from sklearn.tree import DecisionTreeClassifier"
      ],
      "execution_count": 0,
      "outputs": []
    },
    {
      "cell_type": "code",
      "metadata": {
        "id": "XEbqVZFOfMWS",
        "colab_type": "code",
        "colab": {}
      },
      "source": [
        "randf = RandomForestClassifier(random_state=15)"
      ],
      "execution_count": 0,
      "outputs": []
    },
    {
      "cell_type": "code",
      "metadata": {
        "id": "bXtrjS3IKHUO",
        "colab_type": "code",
        "colab": {}
      },
      "source": [
        "#train the single decision classifier\n",
        "decision =  DecisionTreeClassifier(max_leaf_nodes = 11, random_state=15)"
      ],
      "execution_count": 0,
      "outputs": []
    },
    {
      "cell_type": "code",
      "metadata": {
        "id": "whf-ITOxKb-X",
        "colab_type": "code",
        "colab": {
          "base_uri": "https://localhost:8080/",
          "height": 118
        },
        "outputId": "125e73fb-3713-400d-b0f7-d43bd122e82e"
      },
      "source": [
        "decision.fit(X_train,y_train)"
      ],
      "execution_count": 16,
      "outputs": [
        {
          "output_type": "execute_result",
          "data": {
            "text/plain": [
              "DecisionTreeClassifier(class_weight=None, criterion='gini', max_depth=None,\n",
              "                       max_features=None, max_leaf_nodes=11,\n",
              "                       min_impurity_decrease=0.0, min_impurity_split=None,\n",
              "                       min_samples_leaf=1, min_samples_split=2,\n",
              "                       min_weight_fraction_leaf=0.0, presort=False,\n",
              "                       random_state=15, splitter='best')"
            ]
          },
          "metadata": {
            "tags": []
          },
          "execution_count": 16
        }
      ]
    },
    {
      "cell_type": "code",
      "metadata": {
        "id": "T3MUtupYfNox",
        "colab_type": "code",
        "colab": {
          "base_uri": "https://localhost:8080/",
          "height": 188
        },
        "outputId": "2b7aaa2e-4c3d-4a78-94e2-755552081e53"
      },
      "source": [
        "#train the random forest classifier\n",
        "randf.fit(X_train,y_train)"
      ],
      "execution_count": 17,
      "outputs": [
        {
          "output_type": "stream",
          "text": [
            "/usr/local/lib/python3.6/dist-packages/sklearn/ensemble/forest.py:245: FutureWarning: The default value of n_estimators will change from 10 in version 0.20 to 100 in 0.22.\n",
            "  \"10 in version 0.20 to 100 in 0.22.\", FutureWarning)\n"
          ],
          "name": "stderr"
        },
        {
          "output_type": "execute_result",
          "data": {
            "text/plain": [
              "RandomForestClassifier(bootstrap=True, class_weight=None, criterion='gini',\n",
              "                       max_depth=None, max_features='auto', max_leaf_nodes=None,\n",
              "                       min_impurity_decrease=0.0, min_impurity_split=None,\n",
              "                       min_samples_leaf=1, min_samples_split=2,\n",
              "                       min_weight_fraction_leaf=0.0, n_estimators=10,\n",
              "                       n_jobs=None, oob_score=False, random_state=15, verbose=0,\n",
              "                       warm_start=False)"
            ]
          },
          "metadata": {
            "tags": []
          },
          "execution_count": 17
        }
      ]
    },
    {
      "cell_type": "code",
      "metadata": {
        "id": "5J-UaQF2fOzM",
        "colab_type": "code",
        "colab": {}
      },
      "source": [
        "#predict the test data with the random forest\n",
        "estimates = randf.predict(X_test)"
      ],
      "execution_count": 0,
      "outputs": []
    },
    {
      "cell_type": "code",
      "metadata": {
        "id": "71xG4kbTHHVP",
        "colab_type": "code",
        "colab": {}
      },
      "source": [
        "#accuracy\n",
        "from sklearn.metrics import accuracy_score"
      ],
      "execution_count": 0,
      "outputs": []
    },
    {
      "cell_type": "code",
      "metadata": {
        "id": "D4TgtIEhHPDY",
        "colab_type": "code",
        "colab": {
          "base_uri": "https://localhost:8080/",
          "height": 34
        },
        "outputId": "aefe0239-85ce-4ef5-e4b6-aea3a6d0eec7"
      },
      "source": [
        "accuracy = accuracy_score(y_test,estimates)\n",
        "accuracy \n",
        "#85% accuracy"
      ],
      "execution_count": 20,
      "outputs": [
        {
          "output_type": "execute_result",
          "data": {
            "text/plain": [
              "0.8530405405405406"
            ]
          },
          "metadata": {
            "tags": []
          },
          "execution_count": 20
        }
      ]
    },
    {
      "cell_type": "code",
      "metadata": {
        "id": "aycgKOm1fRoa",
        "colab_type": "code",
        "colab": {}
      },
      "source": [
        "#import graphing libraries\n",
        "import matplotlib.pyplot as plt\n",
        "%matplotlib inline"
      ],
      "execution_count": 0,
      "outputs": []
    },
    {
      "cell_type": "code",
      "metadata": {
        "id": "SW04BR7UfiCJ",
        "colab_type": "code",
        "colab": {}
      },
      "source": [
        "#get the feature importances\n",
        "feature_importances = pd.DataFrame(randf.feature_importances_,\n",
        "                                   index = X_train.columns,\n",
        "                                    columns=['importance']).sort_values('importance',                                                                 ascending=False)"
      ],
      "execution_count": 0,
      "outputs": []
    },
    {
      "cell_type": "code",
      "metadata": {
        "id": "sfLD8HSRgD5e",
        "colab_type": "code",
        "colab": {
          "base_uri": "https://localhost:8080/",
          "height": 202
        },
        "outputId": "0d47f195-3e8f-4ca2-d9b2-0cc8200bf88b"
      },
      "source": [
        "feature_importances['importance'][:10]\n",
        "#top 10 features"
      ],
      "execution_count": 23,
      "outputs": [
        {
          "output_type": "execute_result",
          "data": {
            "text/plain": [
              "final weight                           0.159906\n",
              "Age                                    0.148081\n",
              "Educatio n Number                      0.111632\n",
              "hours per week                         0.084964\n",
              "capital gain                           0.083251\n",
              "relationship_ Husband                  0.081615\n",
              "marrital status_ Married-civ-spouse    0.042952\n",
              "capital loss                           0.030704\n",
              "occupation_ Exec-managerial            0.030099\n",
              "occupation_ Prof-specialty             0.017959\n",
              "Name: importance, dtype: float64"
            ]
          },
          "metadata": {
            "tags": []
          },
          "execution_count": 23
        }
      ]
    },
    {
      "cell_type": "code",
      "metadata": {
        "id": "HM1YFLBbfY2X",
        "colab_type": "code",
        "colab": {
          "base_uri": "https://localhost:8080/",
          "height": 749
        },
        "outputId": "d9555941-48cf-483a-f60e-5a915ea861ab"
      },
      "source": [
        "import numpy as np\n",
        "y_pos = np.arange(len(feature_importances['importance'][:10])) \n",
        "#plt.bar(y_pos, feature_importances['importance'][:10], align='center', alpha=0.5)\n",
        "#plt.xticks(y_pos, feature_importances.index[:10])\n",
        "plt.figure(figsize=(20,10))\n",
        "plt.bar(x=[x for x in range(10)],height=feature_importances['importance'][:10])\n",
        "plt.xticks(range(10),feature_importances.index[:10])\n",
        "plt.ylabel('Percentage')\n",
        "plt.xlabel('Features')\n",
        "plt.title('Classifying income per person Greater $50,000 or not')\n",
        "plt.tight_layout()\n",
        "plt.savefig('chart.jpg')\n",
        "#graph the most important features"
      ],
      "execution_count": 24,
      "outputs": [
        {
          "output_type": "display_data",
          "data": {
            "image/png": "[encoded data removed]",
            "text/plain": [
              "<Figure size 1440x720 with 1 Axes>"
            ]
          },
          "metadata": {
            "tags": []
          }
        }
      ]
    },
    {
      "cell_type": "code",
      "metadata": {
        "id": "7KDFoSDpfzEZ",
        "colab_type": "code",
        "colab": {}
      },
      "source": [
        "from sklearn.tree.export import export_text"
      ],
      "execution_count": 0,
      "outputs": []
    },
    {
      "cell_type": "code",
      "metadata": {
        "id": "pbqL2ZUki3GT",
        "colab_type": "code",
        "colab": {}
      },
      "source": [
        "tree_rules = export_text(randf.estimators_[4])"
      ],
      "execution_count": 0,
      "outputs": []
    },
    {
      "cell_type": "code",
      "metadata": {
        "id": "wkCQgCUmjBNK",
        "colab_type": "code",
        "colab": {
          "base_uri": "https://localhost:8080/",
          "height": 54
        },
        "outputId": "204e6421-987d-4bf0-ec73-8b02485dc831"
      },
      "source": [
        "tree_rules\n",
        "#the text of the #4 tree from the random forest based on its rules from most important to least left to right"
      ],
      "execution_count": 27,
      "outputs": [
        {
          "output_type": "execute_result",
          "data": {
            "text/plain": [
              "'|--- feature_86 <= 0.50\\n|   |--- feature_32 <= 0.50\\n|   |   |--- feature_19 <= 0.50\\n|   |   |   |--- feature_0 <= 27.50\\n|   |   |   |   |--- feature_43 <= 0.50\\n|   |   |   |   |   |--- feature_2 <= 10.50\\n|   |   |   |   |   |   |--- feature_5 <= 49.50\\n|   |   |   |   |   |   |   |--- feature_50 <= 0.50\\n|   |   |   |   |   |   |   |   |--- feature_35 <= 0.50\\n|   |   |   |   |   |   |   |   |   |--- feature_85 <= 0.50\\n|   |   |   |   |   |   |   |   |   |   |--- feature_16 <= 0.50\\n|   |   |   |   |   |   |   |   |   |   |   |--- truncated branch of depth 6\\n|   |   |   |   |   |   |   |   |   |   |--- feature_16 >  0.50\\n|   |   |   |   |   |   |   |   |   |   |   |--- class: 0.0\\n|   |   |   |   |   |   |   |   |   |--- feature_85 >  0.50\\n|   |   |   |   |   |   |   |   |   |   |--- feature_22 <= 0.50\\n|   |   |   |   |   |   |   |   |   |   |   |--- truncated branch of depth 11\\n|   |   |   |   |   |   |   |   |   |   |--- feature_22 >  0.50\\n|   |   |   |   |   |   |   |   |   |   |   |--- truncated branch of depth 6\\n|   |   |   |   |   |   |   |   |--- feature_35 >  0.50\\n|   |   |   |   |   |   |   |   |   |--- feature_10 <= 0.50\\n|   |   |   |   |   |   |   |   |   |   |--- class: 0.0\\n|   |   |   |   |   |   |   |   |   |--- feature_10 >  0.50\\n|   |   |   |   |   |   |   |   |   |   |--- feature_70 <= 0.50\\n|   |   |   |   |   |   |   |   |   |   |   |--- truncated branch of depth 10\\n|   |   |   |   |   |   |   |   |   |   |--- feature_70 >  0.50\\n|   |   |   |   |   |   |   |   |   |   |   |--- class: 0.0\\n|   |   |   |   |   |   |   |--- feature_50 >  0.50\\n|   |   |   |   |   |   |   |   |--- feature_1 <= 180384.50\\n|   |   |   |   |   |   |   |   |   |--- feature_29 <= 0.50\\n|   |   |   |   |   |   |   |   |   |   |--- class: 1.0\\n|   |   |   |   |   |   |   |   |   |--- feature_29 >  0.50\\n|   |   |   |   |   |   |   |   |   |   |--- class: 0.0\\n|   |   |   |   |   |   |   |   |--- feature_1 >  180384.50\\n|   |   |   |   |   |   |   |   |   |--- class: 0.0\\n|   |   |   |   |   |   |--- feature_5 >  49.50\\n|   |   |   |   |   |   |   |--- feature_12 <= 0.50\\n|   |   |   |   |   |   |   |   |--- feature_88 <= 0.50\\n|   |   |   |   |   |   |   |   |   |--- feature_0 <= 19.50\\n|   |   |   |   |   |   |   |   |   |   |--- feature_2 <= 5.00\\n|   |   |   |   |   |   |   |   |   |   |   |--- truncated branch of depth 2\\n|   |   |   |   |   |   |   |   |   |   |--- feature_2 >  5.00\\n|   |   |   |   |   |   |   |   |   |   |   |--- class: 0.0\\n|   |   |   |   |   |   |   |   |   |--- feature_0 >  19.50\\n|   |   |   |   |   |   |   |   |   |   |--- feature_89 <= 0.50\\n|   |   |   |   |   |   |   |   |   |   |   |--- truncated branch of depth 10\\n|   |   |   |   |   |   |   |   |   |   |--- feature_89 >  0.50\\n|   |   |   |   |   |   |   |   |   |   |   |--- class: 0.0\\n|   |   |   |   |   |   |   |   |--- feature_88 >  0.50\\n|   |   |   |   |   |   |   |   |   |--- class: 0.0\\n|   |   |   |   |   |   |   |--- feature_12 >  0.50\\n|   |   |   |   |   |   |   |   |--- feature_18 <= 0.50\\n|   |   |   |   |   |   |   |   |   |--- feature_80 <= 0.50\\n|   |   |   |   |   |   |   |   |   |   |--- class: 0.0\\n|   |   |   |   |   |   |   |   |   |--- feature_80 >  0.50\\n|   |   |   |   |   |   |   |   |   |   |--- class: 1.0\\n|   |   |   |   |   |   |   |   |--- feature_18 >  0.50\\n|   |   |   |   |   |   |   |   |   |--- class: 0.0\\n|   |   |   |   |   |--- feature_2 >  10.50\\n|   |   |   |   |   |   |--- feature_0 <= 24.50\\n|   |   |   |   |   |   |   |--- feature_79 <= 0.50\\n|   |   |   |   |   |   |   |   |--- feature_84 <= 0.50\\n|   |   |   |   |   |   |   |   |   |--- feature_90 <= 0.50\\n|   |   |   |   |   |   |   |   |   |   |--- feature_81 <= 0.50\\n|   |   |   |   |   |   |   |   |   |   |   |--- truncated branch of depth 5\\n|   |   |   |   |   |   |   |   |   |   |--- feature_81 >  0.50\\n|   |   |   |   |   |   |   |   |   |   |   |--- class: 0.0\\n|   |   |   |   |   |   |   |   |   |--- feature_90 >  0.50\\n|   |   |   |   |   |   |   |   |   |   |--- class: 0.0\\n|   |   |   |   |   |   |   |   |--- feature_84 >  0.50\\n|   |   |   |   |   |   |   |   |   |--- class: 0.0\\n|   |   |   |   |   |   |   |--- feature_79 >  0.50\\n|   |   |   |   |   |   |   |   |--- class: 0.0\\n|   |   |   |   |   |   |--- feature_0 >  24.50\\n|   |   |   |   |   |   |   |--- feature_3 <= 10199.50\\n|   |   |   |   |   |   |   |   |--- feature_8 <= 0.50\\n|   |   |   |   |   |   |   |   |   |--- feature_5 <= 57.50\\n|   |   |   |   |   |   |   |   |   |   |--- feature_28 <= 0.50\\n|   |   |   |   |   |   |   |   |   |   |   |--- truncated branch of depth 11\\n|   |   |   |   |   |   |   |   |   |   |--- feature_28 >  0.50\\n|   |   |   |   |   |   |   |   |   |   |   |--- class: 0.0\\n|   |   |   |   |   |   |   |   |   |--- feature_5 >  57.50\\n|   |   |   |   |   |   |   |   |   |   |--- feature_6 <= 0.50\\n|   |   |   |   |   |   |   |   |   |   |   |--- truncated branch of depth 7\\n|   |   |   |   |   |   |   |   |   |   |--- feature_6 >  0.50\\n|   |   |   |   |   |   |   |   |   |   |   |--- class: 0.0\\n|   |   |   |   |   |   |   |   |--- feature_8 >  0.50\\n|   |   |   |   |   |   |   |   |   |--- class: 0.0\\n|   |   |   |   |   |   |   |--- feature_3 >  10199.50\\n|   |   |   |   |   |   |   |   |--- class: 1.0\\n|   |   |   |   |--- feature_43 >  0.50\\n|   |   |   |   |   |--- feature_10 <= 0.50\\n|   |   |   |   |   |   |--- class: 1.0\\n|   |   |   |   |   |--- feature_10 >  0.50\\n|   |   |   |   |   |   |--- class: 0.0\\n|   |   |   |--- feature_0 >  27.50\\n|   |   |   |   |--- feature_2 <= 12.50\\n|   |   |   |   |   |--- feature_84 <= 0.50\\n|   |   |   |   |   |   |--- feature_87 <= 0.50\\n|   |   |   |   |   |   |   |--- feature_3 <= 7139.50\\n|   |   |   |   |   |   |   |   |--- feature_18 <= 0.50\\n|   |   |   |   |   |   |   |   |   |--- feature_5 <= 44.50\\n|   |   |   |   |   |   |   |   |   |   |--- feature_29 <= 0.50\\n|   |   |   |   |   |   |   |   |   |   |   |--- truncated branch of depth 13\\n|   |   |   |   |   |   |   |   |   |   |--- feature_29 >  0.50\\n|   |   |   |   |   |   |   |   |   |   |   |--- truncated branch of depth 9\\n|   |   |   |   |   |   |   |   |   |--- feature_5 >  44.50\\n|   |   |   |   |   |   |   |   |   |   |--- feature_56 <= 0.50\\n|   |   |   |   |   |   |   |   |   |   |   |--- truncated branch of depth 12\\n|   |   |   |   |   |   |   |   |   |   |--- feature_56 >  0.50\\n|   |   |   |   |   |   |   |   |   |   |   |--- class: 1.0\\n|   |   |   |   |   |   |   |   |--- feature_18 >  0.50\\n|   |   |   |   |   |   |   |   |   |--- feature_2 <= 9.50\\n|   |   |   |   |   |   |   |   |   |   |--- class: 0.0\\n|   |   |   |   |   |   |   |   |   |--- feature_2 >  9.50\\n|   |   |   |   |   |   |   |   |   |   |--- feature_2 <= 11.50\\n|   |   |   |   |   |   |   |   |   |   |   |--- truncated branch of depth 11\\n|   |   |   |   |   |   |   |   |   |   |--- feature_2 >  11.50\\n|   |   |   |   |   |   |   |   |   |   |   |--- class: 0.0\\n|   |   |   |   |   |   |   |--- feature_3 >  7139.50\\n|   |   |   |   |   |   |   |   |--- class: 1.0\\n|   |   |   |   |   |   |--- feature_87 >  0.50\\n|   |   |   |   |   |   |   |--- feature_59 <= 0.50\\n|   |   |   |   |   |   |   |   |--- feature_4 <= 2231.50\\n|   |   |   |   |   |   |   |   |   |--- feature_61 <= 0.50\\n|   |   |   |   |   |   |   |   |   |   |--- feature_21 <= 0.50\\n|   |   |   |   |   |   |   |   |   |   |   |--- truncated branch of depth 30\\n|   |   |   |   |   |   |   |   |   |   |--- feature_21 >  0.50\\n|   |   |   |   |   |   |   |   |   |   |   |--- truncated branch of depth 7\\n|   |   |   |   |   |   |   |   |   |--- feature_61 >  0.50\\n|   |   |   |   |   |   |   |   |   |   |--- feature_83 <= 0.50\\n|   |   |   |   |   |   |   |   |   |   |   |--- truncated branch of depth 2\\n|   |   |   |   |   |   |   |   |   |   |--- feature_83 >  0.50\\n|   |   |   |   |   |   |   |   |   |   |   |--- class: 0.0\\n|   |   |   |   |   |   |   |   |--- feature_4 >  2231.50\\n|   |   |   |   |   |   |   |   |   |--- feature_5 <= 41.00\\n|   |   |   |   |   |   |   |   |   |   |--- feature_26 <= 0.50\\n|   |   |   |   |   |   |   |   |   |   |   |--- class: 0.0\\n|   |   |   |   |   |   |   |   |   |   |--- feature_26 >  0.50\\n|   |   |   |   |   |   |   |   |   |   |   |--- class: 1.0\\n|   |   |   |   |   |   |   |   |   |--- feature_5 >  41.00\\n|   |   |   |   |   |   |   |   |   |   |--- feature_29 <= 0.50\\n|   |   |   |   |   |   |   |   |   |   |   |--- truncated branch of depth 2\\n|   |   |   |   |   |   |   |   |   |   |--- feature_29 >  0.50\\n|   |   |   |   |   |   |   |   |   |   |   |--- class: 1.0\\n|   |   |   |   |   |   |   |--- feature_59 >  0.50\\n|   |   |   |   |   |   |   |   |--- class: 1.0\\n|   |   |   |   |   |--- feature_84 >  0.50\\n|   |   |   |   |   |   |--- feature_12 <= 0.50\\n|   |   |   |   |   |   |   |--- feature_7 <= 0.50\\n|   |   |   |   |   |   |   |   |--- feature_83 <= 0.50\\n|   |   |   |   |   |   |   |   |   |--- feature_3 <= 10466.50\\n|   |   |   |   |   |   |   |   |   |   |--- feature_87 <= 0.50\\n|   |   |   |   |   |   |   |   |   |   |   |--- truncated branch of depth 5\\n|   |   |   |   |   |   |   |   |   |   |--- feature_87 >  0.50\\n|   |   |   |   |   |   |   |   |   |   |   |--- truncated branch of depth 6\\n|   |   |   |   |   |   |   |   |   |--- feature_3 >  10466.50\\n|   |   |   |   |   |   |   |   |   |   |--- class: 1.0\\n|   |   |   |   |   |   |   |   |--- feature_83 >  0.50\\n|   |   |   |   |   |   |   |   |   |--- feature_47 <= 0.50\\n|   |   |   |   |   |   |   |   |   |   |--- feature_31 <= 0.50\\n|   |   |   |   |   |   |   |   |   |   |   |--- truncated branch of depth 21\\n|   |   |   |   |   |   |   |   |   |   |--- feature_31 >  0.50\\n|   |   |   |   |   |   |   |   |   |   |   |--- truncated branch of depth 3\\n|   |   |   |   |   |   |   |   |   |--- feature_47 >  0.50\\n|   |   |   |   |   |   |   |   |   |   |--- feature_5 <= 45.00\\n|   |   |   |   |   |   |   |   |   |   |   |--- class: 0.0\\n|   |   |   |   |   |   |   |   |   |   |--- feature_5 >  45.00\\n|   |   |   |   |   |   |   |   |   |   |   |--- class: 1.0\\n|   |   |   |   |   |   |   |--- feature_7 >  0.50\\n|   |   |   |   |   |   |   |   |--- feature_5 <= 42.50\\n|   |   |   |   |   |   |   |   |   |--- feature_16 <= 0.50\\n|   |   |   |   |   |   |   |   |   |   |--- feature_2 <= 10.50\\n|   |   |   |   |   |   |   |   |   |   |   |--- truncated branch of depth 4\\n|   |   |   |   |   |   |   |   |   |   |--- feature_2 >  10.50\\n|   |   |   |   |   |   |   |   |   |   |   |--- truncated branch of depth 4\\n|   |   |   |   |   |   |   |   |   |--- feature_16 >  0.50\\n|   |   |   |   |   |   |   |   |   |   |--- feature_81 <= 0.50\\n|   |   |   |   |   |   |   |   |   |   |   |--- truncated branch of depth 4\\n|   |   |   |   |   |   |   |   |   |   |--- feature_81 >  0.50\\n|   |   |   |   |   |   |   |   |   |   |   |--- class: 0.0\\n|   |   |   |   |   |   |   |   |--- feature_5 >  42.50\\n|   |   |   |   |   |   |   |   |   |--- feature_28 <= 0.50\\n|   |   |   |   |   |   |   |   |   |   |--- class: 0.0\\n|   |   |   |   |   |   |   |   |   |--- feature_28 >  0.50\\n|   |   |   |   |   |   |   |   |   |   |--- class: 1.0\\n|   |   |   |   |   |   |--- feature_12 >  0.50\\n|   |   |   |   |   |   |   |--- feature_3 <= 51164.00\\n|   |   |   |   |   |   |   |   |--- feature_2 <= 7.50\\n|   |   |   |   |   |   |   |   |   |--- feature_5 <= 52.50\\n|   |   |   |   |   |   |   |   |   |   |--- class: 0.0\\n|   |   |   |   |   |   |   |   |   |--- feature_5 >  52.50\\n|   |   |   |   |   |   |   |   |   |   |--- feature_2 <= 5.50\\n|   |   |   |   |   |   |   |   |   |   |   |--- class: 0.0\\n|   |   |   |   |   |   |   |   |   |   |--- feature_2 >  5.50\\n|   |   |   |   |   |   |   |   |   |   |   |--- class: 1.0\\n|   |   |   |   |   |   |   |   |--- feature_2 >  7.50\\n|   |   |   |   |   |   |   |   |   |--- feature_5 <= 16.00\\n|   |   |   |   |   |   |   |   |   |   |--- feature_34 <= 0.50\\n|   |   |   |   |   |   |   |   |   |   |   |--- truncated branch of depth 3\\n|   |   |   |   |   |   |   |   |   |   |--- feature_34 >  0.50\\n|   |   |   |   |   |   |   |   |   |   |   |--- class: 0.0\\n|   |   |   |   |   |   |   |   |   |--- feature_5 >  16.00\\n|   |   |   |   |   |   |   |   |   |   |--- class: 0.0\\n|   |   |   |   |   |   |   |--- feature_3 >  51164.00\\n|   |   |   |   |   |   |   |   |--- class: 1.0\\n|   |   |   |   |--- feature_2 >  12.50\\n|   |   |   |   |   |--- feature_3 <= 7139.50\\n|   |   |   |   |   |   |--- feature_4 <= 2391.50\\n|   |   |   |   |   |   |   |--- feature_4 <= 1577.00\\n|   |   |   |   |   |   |   |   |--- feature_2 <= 14.50\\n|   |   |   |   |   |   |   |   |   |--- feature_0 <= 44.50\\n|   |   |   |   |   |   |   |   |   |   |--- feature_5 <= 49.00\\n|   |   |   |   |   |   |   |   |   |   |   |--- truncated branch of depth 17\\n|   |   |   |   |   |   |   |   |   |   |--- feature_5 >  49.00\\n|   |   |   |   |   |   |   |   |   |   |   |--- truncated branch of depth 25\\n|   |   |   |   |   |   |   |   |   |--- feature_0 >  44.50\\n|   |   |   |   |   |   |   |   |   |   |--- feature_4 <= 1534.00\\n|   |   |   |   |   |   |   |   |   |   |   |--- truncated branch of depth 23\\n|   |   |   |   |   |   |   |   |   |   |--- feature_4 >  1534.00\\n|   |   |   |   |   |   |   |   |   |   |   |--- class: 1.0\\n|   |   |   |   |   |   |   |   |--- feature_2 >  14.50\\n|   |   |   |   |   |   |   |   |   |--- feature_12 <= 0.50\\n|   |   |   |   |   |   |   |   |   |   |--- feature_4 <= 782.00\\n|   |   |   |   |   |   |   |   |   |   |   |--- truncated branch of depth 20\\n|   |   |   |   |   |   |   |   |   |   |--- feature_4 >  782.00\\n|   |   |   |   |   |   |   |   |   |   |   |--- class: 1.0\\n|   |   |   |   |   |   |   |   |   |--- feature_12 >  0.50\\n|   |   |   |   |   |   |   |   |   |   |--- feature_5 <= 42.50\\n|   |   |   |   |   |   |   |   |   |   |   |--- truncated branch of depth 4\\n|   |   |   |   |   |   |   |   |   |   |--- feature_5 >  42.50\\n|   |   |   |   |   |   |   |   |   |   |   |--- truncated branch of depth 6\\n|   |   |   |   |   |   |   |--- feature_4 >  1577.00\\n|   |   |   |   |   |   |   |   |--- feature_2 <= 13.50\\n|   |   |   |   |   |   |   |   |   |--- feature_5 <= 44.00\\n|   |   |   |   |   |   |   |   |   |   |--- feature_85 <= 0.50\\n|   |   |   |   |   |   |   |   |   |   |   |--- class: 0.0\\n|   |   |   |   |   |   |   |   |   |   |--- feature_85 >  0.50\\n|   |   |   |   |   |   |   |   |   |   |   |--- truncated branch of depth 4\\n|   |   |   |   |   |   |   |   |   |--- feature_5 >  44.00\\n|   |   |   |   |   |   |   |   |   |   |--- class: 0.0\\n|   |   |   |   |   |   |   |   |--- feature_2 >  13.50\\n|   |   |   |   |   |   |   |   |   |--- class: 0.0\\n|   |   |   |   |   |   |--- feature_4 >  2391.50\\n|   |   |   |   |   |   |   |--- class: 1.0\\n|   |   |   |   |   |--- feature_3 >  7139.50\\n|   |   |   |   |   |   |--- class: 1.0\\n|   |   |--- feature_19 >  0.50\\n|   |   |   |--- feature_11 <= 0.50\\n|   |   |   |   |--- feature_90 <= 0.50\\n|   |   |   |   |   |--- feature_89 <= 0.50\\n|   |   |   |   |   |   |--- feature_83 <= 0.50\\n|   |   |   |   |   |   |   |--- feature_80 <= 0.50\\n|   |   |   |   |   |   |   |   |--- feature_85 <= 0.50\\n|   |   |   |   |   |   |   |   |   |--- feature_81 <= 0.50\\n|   |   |   |   |   |   |   |   |   |   |--- class: 0.0\\n|   |   |   |   |   |   |   |   |   |--- feature_81 >  0.50\\n|   |   |   |   |   |   |   |   |   |   |--- feature_5 <= 42.50\\n|   |   |   |   |   |   |   |   |   |   |   |--- truncated branch of depth 10\\n|   |   |   |   |   |   |   |   |   |   |--- feature_5 >  42.50\\n|   |   |   |   |   |   |   |   |   |   |   |--- truncated branch of depth 4\\n|   |   |   |   |   |   |   |   |--- feature_85 >  0.50\\n|   |   |   |   |   |   |   |   |   |--- feature_7 <= 0.50\\n|   |   |   |   |   |   |   |   |   |   |--- feature_1 <= 206830.50\\n|   |   |   |   |   |   |   |   |   |   |   |--- truncated branch of depth 6\\n|   |   |   |   |   |   |   |   |   |   |--- feature_1 >  206830.50\\n|   |   |   |   |   |   |   |   |   |   |   |--- class: 0.0\\n|   |   |   |   |   |   |   |   |   |--- feature_7 >  0.50\\n|   |   |   |   |   |   |   |   |   |   |--- class: 0.0\\n|   |   |   |   |   |   |   |--- feature_80 >  0.50\\n|   |   |   |   |   |   |   |   |--- feature_2 <= 10.00\\n|   |   |   |   |   |   |   |   |   |--- feature_5 <= 65.00\\n|   |   |   |   |   |   |   |   |   |   |--- class: 0.0\\n|   |   |   |   |   |   |   |   |   |--- feature_5 >  65.00\\n|   |   |   |   |   |   |   |   |   |   |--- class: 1.0\\n|   |   |   |   |   |   |   |   |--- feature_2 >  10.00\\n|   |   |   |   |   |   |   |   |   |--- class: 0.0\\n|   |   |   |   |   |   |--- feature_83 >  0.50\\n|   |   |   |   |   |   |   |--- feature_5 <= 42.50\\n|   |   |   |   |   |   |   |   |--- feature_13 <= 0.50\\n|   |   |   |   |   |   |   |   |   |--- feature_36 <= 0.50\\n|   |   |   |   |   |   |   |   |   |   |--- feature_84 <= 0.50\\n|   |   |   |   |   |   |   |   |   |   |   |--- truncated branch of depth 15\\n|   |   |   |   |   |   |   |   |   |   |--- feature_84 >  0.50\\n|   |   |   |   |   |   |   |   |   |   |   |--- truncated branch of depth 16\\n|   |   |   |   |   |   |   |   |   |--- feature_36 >  0.50\\n|   |   |   |   |   |   |   |   |   |   |--- feature_12 <= 0.50\\n|   |   |   |   |   |   |   |   |   |   |   |--- truncated branch of depth 4\\n|   |   |   |   |   |   |   |   |   |   |--- feature_12 >  0.50\\n|   |   |   |   |   |   |   |   |   |   |   |--- class: 0.0\\n|   |   |   |   |   |   |   |   |--- feature_13 >  0.50\\n|   |   |   |   |   |   |   |   |   |--- feature_85 <= 0.50\\n|   |   |   |   |   |   |   |   |   |   |--- feature_34 <= 0.50\\n|   |   |   |   |   |   |   |   |   |   |   |--- truncated branch of depth 4\\n|   |   |   |   |   |   |   |   |   |   |--- feature_34 >  0.50\\n|   |   |   |   |   |   |   |   |   |   |   |--- truncated branch of depth 2\\n|   |   |   |   |   |   |   |   |   |--- feature_85 >  0.50\\n|   |   |   |   |   |   |   |   |   |   |--- class: 0.0\\n|   |   |   |   |   |   |   |--- feature_5 >  42.50\\n|   |   |   |   |   |   |   |   |--- feature_30 <= 0.50\\n|   |   |   |   |   |   |   |   |   |--- feature_2 <= 12.50\\n|   |   |   |   |   |   |   |   |   |   |--- feature_35 <= 0.50\\n|   |   |   |   |   |   |   |   |   |   |   |--- truncated branch of depth 11\\n|   |   |   |   |   |   |   |   |   |   |--- feature_35 >  0.50\\n|   |   |   |   |   |   |   |   |   |   |   |--- truncated branch of depth 5\\n|   |   |   |   |   |   |   |   |   |--- feature_2 >  12.50\\n|   |   |   |   |   |   |   |   |   |   |--- feature_36 <= 0.50\\n|   |   |   |   |   |   |   |   |   |   |   |--- truncated branch of depth 19\\n|   |   |   |   |   |   |   |   |   |   |--- feature_36 >  0.50\\n|   |   |   |   |   |   |   |   |   |   |   |--- class: 0.0\\n|   |   |   |   |   |   |   |   |--- feature_30 >  0.50\\n|   |   |   |   |   |   |   |   |   |--- feature_12 <= 0.50\\n|   |   |   |   |   |   |   |   |   |   |--- feature_13 <= 0.50\\n|   |   |   |   |   |   |   |   |   |   |   |--- truncated branch of depth 14\\n|   |   |   |   |   |   |   |   |   |   |--- feature_13 >  0.50\\n|   |   |   |   |   |   |   |   |   |   |   |--- class: 0.0\\n|   |   |   |   |   |   |   |   |   |--- feature_12 >  0.50\\n|   |   |   |   |   |   |   |   |   |   |--- feature_1 <= 260913.50\\n|   |   |   |   |   |   |   |   |   |   |   |--- class: 0.0\\n|   |   |   |   |   |   |   |   |   |   |--- feature_1 >  260913.50\\n|   |   |   |   |   |   |   |   |   |   |   |--- truncated branch of depth 3\\n|   |   |   |   |   |--- feature_89 >  0.50\\n|   |   |   |   |   |   |--- feature_80 <= 0.50\\n|   |   |   |   |   |   |   |--- feature_13 <= 0.50\\n|   |   |   |   |   |   |   |   |--- feature_1 <= 169084.50\\n|   |   |   |   |   |   |   |   |   |--- feature_3 <= 8704.50\\n|   |   |   |   |   |   |   |   |   |   |--- class: 0.0\\n|   |   |   |   |   |   |   |   |   |--- feature_3 >  8704.50\\n|   |   |   |   |   |   |   |   |   |   |--- class: 1.0\\n|   |   |   |   |   |   |   |   |--- feature_1 >  169084.50\\n|   |   |   |   |   |   |   |   |   |--- class: 0.0\\n|   |   |   |   |   |   |   |--- feature_13 >  0.50\\n|   |   |   |   |   |   |   |   |--- class: 0.0\\n|   |   |   |   |   |   |--- feature_80 >  0.50\\n|   |   |   |   |   |   |   |--- class: 0.0\\n|   |   |   |   |--- feature_90 >  0.50\\n|   |   |   |   |   |--- feature_30 <= 0.50\\n|   |   |   |   |   |   |--- feature_2 <= 13.50\\n|   |   |   |   |   |   |   |--- feature_2 <= 11.50\\n|   |   |   |   |   |   |   |   |--- feature_0 <= 66.00\\n|   |   |   |   |   |   |   |   |   |--- feature_83 <= 0.50\\n|   |   |   |   |   |   |   |   |   |   |--- class: 0.0\\n|   |   |   |   |   |   |   |   |   |--- feature_83 >  0.50\\n|   |   |   |   |   |   |   |   |   |   |--- feature_36 <= 0.50\\n|   |   |   |   |   |   |   |   |   |   |   |--- class: 0.0\\n|   |   |   |   |   |   |   |   |   |   |--- feature_36 >  0.50\\n|   |   |   |   |   |   |   |   |   |   |   |--- truncated branch of depth 2\\n|   |   |   |   |   |   |   |   |--- feature_0 >  66.00\\n|   |   |   |   |   |   |   |   |   |--- class: 1.0\\n|   |   |   |   |   |   |   |--- feature_2 >  11.50\\n|   |   |   |   |   |   |   |   |--- feature_76 <= 0.50\\n|   |   |   |   |   |   |   |   |   |--- class: 0.0\\n|   |   |   |   |   |   |   |   |--- feature_76 >  0.50\\n|   |   |   |   |   |   |   |   |   |--- feature_3 <= 4307.00\\n|   |   |   |   |   |   |   |   |   |   |--- feature_35 <= 0.50\\n|   |   |   |   |   |   |   |   |   |   |   |--- truncated branch of depth 7\\n|   |   |   |   |   |   |   |   |   |   |--- feature_35 >  0.50\\n|   |   |   |   |   |   |   |   |   |   |   |--- truncated branch of depth 2\\n|   |   |   |   |   |   |   |   |   |--- feature_3 >  4307.00\\n|   |   |   |   |   |   |   |   |   |   |--- class: 1.0\\n|   |   |   |   |   |   |--- feature_2 >  13.50\\n|   |   |   |   |   |   |   |--- feature_36 <= 0.50\\n|   |   |   |   |   |   |   |   |--- feature_13 <= 0.50\\n|   |   |   |   |   |   |   |   |   |--- class: 0.0\\n|   |   |   |   |   |   |   |   |--- feature_13 >  0.50\\n|   |   |   |   |   |   |   |   |   |--- class: 1.0\\n|   |   |   |   |   |   |   |--- feature_36 >  0.50\\n|   |   |   |   |   |   |   |   |--- feature_83 <= 0.50\\n|   |   |   |   |   |   |   |   |   |--- class: 0.0\\n|   |   |   |   |   |   |   |   |--- feature_83 >  0.50\\n|   |   |   |   |   |   |   |   |   |--- class: 1.0\\n|   |   |   |   |   |--- feature_30 >  0.50\\n|   |   |   |   |   |   |--- feature_84 <= 0.50\\n|   |   |   |   |   |   |   |--- feature_4 <= 877.50\\n|   |   |   |   |   |   |   |   |--- feature_12 <= 0.50\\n|   |   |   |   |   |   |   |   |   |--- feature_13 <= 0.50\\n|   |   |   |   |   |   |   |   |   |   |--- feature_3 <= 3715.00\\n|   |   |   |   |   |   |   |   |   |   |   |--- truncated branch of depth 5\\n|   |   |   |   |   |   |   |   |   |   |--- feature_3 >  3715.00\\n|   |   |   |   |   |   |   |   |   |   |   |--- class: 1.0\\n|   |   |   |   |   |   |   |   |   |--- feature_13 >  0.50\\n|   |   |   |   |   |   |   |   |   |   |--- class: 0.0\\n|   |   |   |   |   |   |   |   |--- feature_12 >  0.50\\n|   |   |   |   |   |   |   |   |   |--- class: 0.0\\n|   |   |   |   |   |   |   |--- feature_4 >  877.50\\n|   |   |   |   |   |   |   |   |--- class: 1.0\\n|   |   |   |   |   |   |--- feature_84 >  0.50\\n|   |   |   |   |   |   |   |--- feature_0 <= 48.50\\n|   |   |   |   |   |   |   |   |--- feature_1 <= 261493.50\\n|   |   |   |   |   |   |   |   |   |--- feature_5 <= 62.50\\n|   |   |   |   |   |   |   |   |   |   |--- feature_13 <= 0.50\\n|   |   |   |   |   |   |   |   |   |   |   |--- truncated branch of depth 10\\n|   |   |   |   |   |   |   |   |   |   |--- feature_13 >  0.50\\n|   |   |   |   |   |   |   |   |   |   |   |--- truncated branch of depth 5\\n|   |   |   |   |   |   |   |   |   |--- feature_5 >  62.50\\n|   |   |   |   |   |   |   |   |   |   |--- class: 1.0\\n|   |   |   |   |   |   |   |   |--- feature_1 >  261493.50\\n|   |   |   |   |   |   |   |   |   |--- class: 0.0\\n|   |   |   |   |   |   |   |--- feature_0 >  48.50\\n|   |   |   |   |   |   |   |   |--- class: 0.0\\n|   |   |   |--- feature_11 >  0.50\\n|   |   |   |   |--- feature_88 <= 0.50\\n|   |   |   |   |   |--- feature_4 <= 1100.50\\n|   |   |   |   |   |   |--- feature_73 <= 0.50\\n|   |   |   |   |   |   |   |--- feature_30 <= 0.50\\n|   |   |   |   |   |   |   |   |--- feature_2 <= 13.50\\n|   |   |   |   |   |   |   |   |   |--- feature_3 <= 5260.00\\n|   |   |   |   |   |   |   |   |   |   |--- feature_35 <= 0.50\\n|   |   |   |   |   |   |   |   |   |   |   |--- truncated branch of depth 5\\n|   |   |   |   |   |   |   |   |   |   |--- feature_35 >  0.50\\n|   |   |   |   |   |   |   |   |   |   |   |--- class: 0.0\\n|   |   |   |   |   |   |   |   |   |--- feature_3 >  5260.00\\n|   |   |   |   |   |   |   |   |   |   |--- class: 1.0\\n|   |   |   |   |   |   |   |   |--- feature_2 >  13.50\\n|   |   |   |   |   |   |   |   |   |--- class: 1.0\\n|   |   |   |   |   |   |   |--- feature_30 >  0.50\\n|   |   |   |   |   |   |   |   |--- feature_3 <= 7042.00\\n|   |   |   |   |   |   |   |   |   |--- feature_83 <= 0.50\\n|   |   |   |   |   |   |   |   |   |   |--- class: 0.0\\n|   |   |   |   |   |   |   |   |   |--- feature_83 >  0.50\\n|   |   |   |   |   |   |   |   |   |   |--- feature_85 <= 0.50\\n|   |   |   |   |   |   |   |   |   |   |   |--- class: 0.0\\n|   |   |   |   |   |   |   |   |   |   |--- feature_85 >  0.50\\n|   |   |   |   |   |   |   |   |   |   |   |--- truncated branch of depth 4\\n|   |   |   |   |   |   |   |   |--- feature_3 >  7042.00\\n|   |   |   |   |   |   |   |   |   |--- class: 1.0\\n|   |   |   |   |   |   |--- feature_73 >  0.50\\n|   |   |   |   |   |   |   |--- class: 0.0\\n|   |   |   |   |   |--- feature_4 >  1100.50\\n|   |   |   |   |   |   |--- class: 1.0\\n|   |   |   |   |--- feature_88 >  0.50\\n|   |   |   |   |   |--- class: 1.0\\n|   |--- feature_32 >  0.50\\n|   |   |--- feature_76 <= 0.50\\n|   |   |   |--- feature_25 <= 0.50\\n|   |   |   |   |--- feature_47 <= 0.50\\n|   |   |   |   |   |--- feature_16 <= 0.50\\n|   |   |   |   |   |   |--- feature_2 <= 8.50\\n|   |   |   |   |   |   |   |--- feature_15 <= 0.50\\n|   |   |   |   |   |   |   |   |--- feature_10 <= 0.50\\n|   |   |   |   |   |   |   |   |   |--- feature_2 <= 4.00\\n|   |   |   |   |   |   |   |   |   |   |--- class: 0.0\\n|   |   |   |   |   |   |   |   |   |--- feature_2 >  4.00\\n|   |   |   |   |   |   |   |   |   |   |--- class: 1.0\\n|   |   |   |   |   |   |   |   |--- feature_10 >  0.50\\n|   |   |   |   |   |   |   |   |   |--- feature_45 <= 0.50\\n|   |   |   |   |   |   |   |   |   |   |--- feature_62 <= 0.50\\n|   |   |   |   |   |   |   |   |   |   |   |--- class: 0.0\\n|   |   |   |   |   |   |   |   |   |   |--- feature_62 >  0.50\\n|   |   |   |   |   |   |   |   |   |   |   |--- class: 1.0\\n|   |   |   |   |   |   |   |   |   |--- feature_45 >  0.50\\n|   |   |   |   |   |   |   |   |   |   |--- class: 0.0\\n|   |   |   |   |   |   |   |--- feature_15 >  0.50\\n|   |   |   |   |   |   |   |   |--- class: 0.0\\n|   |   |   |   |   |   |--- feature_2 >  8.50\\n|   |   |   |   |   |   |   |--- feature_87 <= 0.50\\n|   |   |   |   |   |   |   |   |--- feature_19 <= 0.50\\n|   |   |   |   |   |   |   |   |   |--- feature_0 <= 37.00\\n|   |   |   |   |   |   |   |   |   |   |--- feature_21 <= 0.50\\n|   |   |   |   |   |   |   |   |   |   |   |--- truncated branch of depth 6\\n|   |   |   |   |   |   |   |   |   |   |--- feature_21 >  0.50\\n|   |   |   |   |   |   |   |   |   |   |   |--- truncated branch of depth 2\\n|   |   |   |   |   |   |   |   |   |--- feature_0 >  37.00\\n|   |   |   |   |   |   |   |   |   |   |--- feature_0 <= 39.50\\n|   |   |   |   |   |   |   |   |   |   |   |--- truncated branch of depth 3\\n|   |   |   |   |   |   |   |   |   |   |--- feature_0 >  39.50\\n|   |   |   |   |   |   |   |   |   |   |   |--- truncated branch of depth 10\\n|   |   |   |   |   |   |   |   |--- feature_19 >  0.50\\n|   |   |   |   |   |   |   |   |   |--- feature_65 <= 0.50\\n|   |   |   |   |   |   |   |   |   |   |--- feature_45 <= 0.50\\n|   |   |   |   |   |   |   |   |   |   |   |--- truncated branch of depth 8\\n|   |   |   |   |   |   |   |   |   |   |--- feature_45 >  0.50\\n|   |   |   |   |   |   |   |   |   |   |   |--- class: 1.0\\n|   |   |   |   |   |   |   |   |   |--- feature_65 >  0.50\\n|   |   |   |   |   |   |   |   |   |   |--- class: 0.0\\n|   |   |   |   |   |   |   |--- feature_87 >  0.50\\n|   |   |   |   |   |   |   |   |--- class: 0.0\\n|   |   |   |   |   |--- feature_16 >  0.50\\n|   |   |   |   |   |   |--- feature_10 <= 0.50\\n|   |   |   |   |   |   |   |--- feature_8 <= 0.50\\n|   |   |   |   |   |   |   |   |--- feature_1 <= 61595.50\\n|   |   |   |   |   |   |   |   |   |--- class: 1.0\\n|   |   |   |   |   |   |   |   |--- feature_1 >  61595.50\\n|   |   |   |   |   |   |   |   |   |--- class: 0.0\\n|   |   |   |   |   |   |   |--- feature_8 >  0.50\\n|   |   |   |   |   |   |   |   |--- class: 1.0\\n|   |   |   |   |   |   |--- feature_10 >  0.50\\n|   |   |   |   |   |   |   |--- feature_83 <= 0.50\\n|   |   |   |   |   |   |   |   |--- feature_82 <= 0.50\\n|   |   |   |   |   |   |   |   |   |--- feature_91 <= 0.50\\n|   |   |   |   |   |   |   |   |   |   |--- class: 0.0\\n|   |   |   |   |   |   |   |   |   |--- feature_91 >  0.50\\n|   |   |   |   |   |   |   |   |   |   |--- feature_60 <= 0.50\\n|   |   |   |   |   |   |   |   |   |   |   |--- truncated branch of depth 2\\n|   |   |   |   |   |   |   |   |   |   |--- feature_60 >  0.50\\n|   |   |   |   |   |   |   |   |   |   |   |--- class: 0.0\\n|   |   |   |   |   |   |   |   |--- feature_82 >  0.50\\n|   |   |   |   |   |   |   |   |   |--- feature_1 <= 212767.00\\n|   |   |   |   |   |   |   |   |   |   |--- class: 0.0\\n|   |   |   |   |   |   |   |   |   |--- feature_1 >  212767.00\\n|   |   |   |   |   |   |   |   |   |   |--- class: 1.0\\n|   |   |   |   |   |   |   |--- feature_83 >  0.50\\n|   |   |   |   |   |   |   |   |--- feature_39 <= 0.50\\n|   |   |   |   |   |   |   |   |   |--- feature_1 <= 184613.00\\n|   |   |   |   |   |   |   |   |   |   |--- class: 1.0\\n|   |   |   |   |   |   |   |   |   |--- feature_1 >  184613.00\\n|   |   |   |   |   |   |   |   |   |   |--- feature_1 <= 231936.00\\n|   |   |   |   |   |   |   |   |   |   |   |--- class: 0.0\\n|   |   |   |   |   |   |   |   |   |   |--- feature_1 >  231936.00\\n|   |   |   |   |   |   |   |   |   |   |   |--- class: 1.0\\n|   |   |   |   |   |   |   |   |--- feature_39 >  0.50\\n|   |   |   |   |   |   |   |   |   |--- class: 1.0\\n|   |   |   |   |--- feature_47 >  0.50\\n|   |   |   |   |   |--- class: 1.0\\n|   |   |   |--- feature_25 >  0.50\\n|   |   |   |   |--- feature_39 <= 0.50\\n|   |   |   |   |   |--- feature_87 <= 0.50\\n|   |   |   |   |   |   |--- class: 1.0\\n|   |   |   |   |   |--- feature_87 >  0.50\\n|   |   |   |   |   |   |--- class: 0.0\\n|   |   |   |   |--- feature_39 >  0.50\\n|   |   |   |   |   |--- class: 0.0\\n|   |   |--- feature_76 >  0.50\\n|   |   |   |--- feature_0 <= 26.50\\n|   |   |   |   |--- feature_25 <= 0.50\\n|   |   |   |   |   |--- feature_18 <= 0.50\\n|   |   |   |   |   |   |--- feature_15 <= 0.50\\n|   |   |   |   |   |   |   |--- feature_89 <= 0.50\\n|   |   |   |   |   |   |   |   |--- feature_16 <= 0.50\\n|   |   |   |   |   |   |   |   |   |--- feature_84 <= 0.50\\n|   |   |   |   |   |   |   |   |   |   |--- class: 0.0\\n|   |   |   |   |   |   |   |   |   |--- feature_84 >  0.50\\n|   |   |   |   |   |   |   |   |   |   |--- feature_88 <= 0.50\\n|   |   |   |   |   |   |   |   |   |   |   |--- truncated branch of depth 6\\n|   |   |   |   |   |   |   |   |   |   |--- feature_88 >  0.50\\n|   |   |   |   |   |   |   |   |   |   |   |--- class: 0.0\\n|   |   |   |   |   |   |   |   |--- feature_16 >  0.50\\n|   |   |   |   |   |   |   |   |   |--- feature_13 <= 0.50\\n|   |   |   |   |   |   |   |   |   |   |--- feature_10 <= 0.50\\n|   |   |   |   |   |   |   |   |   |   |   |--- truncated branch of depth 2\\n|   |   |   |   |   |   |   |   |   |   |--- feature_10 >  0.50\\n|   |   |   |   |   |   |   |   |   |   |   |--- truncated branch of depth 10\\n|   |   |   |   |   |   |   |   |   |--- feature_13 >  0.50\\n|   |   |   |   |   |   |   |   |   |   |--- class: 0.0\\n|   |   |   |   |   |   |   |--- feature_89 >  0.50\\n|   |   |   |   |   |   |   |   |--- class: 0.0\\n|   |   |   |   |   |   |--- feature_15 >  0.50\\n|   |   |   |   |   |   |   |--- feature_89 <= 0.50\\n|   |   |   |   |   |   |   |   |--- feature_83 <= 0.50\\n|   |   |   |   |   |   |   |   |   |--- class: 0.0\\n|   |   |   |   |   |   |   |   |--- feature_83 >  0.50\\n|   |   |   |   |   |   |   |   |   |--- feature_4 <= 988.50\\n|   |   |   |   |   |   |   |   |   |   |--- feature_0 <= 19.50\\n|   |   |   |   |   |   |   |   |   |   |   |--- class: 1.0\\n|   |   |   |   |   |   |   |   |   |   |--- feature_0 >  19.50\\n|   |   |   |   |   |   |   |   |   |   |   |--- class: 0.0\\n|   |   |   |   |   |   |   |   |   |--- feature_4 >  988.50\\n|   |   |   |   |   |   |   |   |   |   |--- class: 1.0\\n|   |   |   |   |   |   |   |--- feature_89 >  0.50\\n|   |   |   |   |   |   |   |   |--- class: 0.0\\n|   |   |   |   |   |--- feature_18 >  0.50\\n|   |   |   |   |   |   |--- class: 0.0\\n|   |   |   |   |--- feature_25 >  0.50\\n|   |   |   |   |   |--- feature_8 <= 0.50\\n|   |   |   |   |   |   |--- feature_80 <= 0.50\\n|   |   |   |   |   |   |   |--- feature_2 <= 13.50\\n|   |   |   |   |   |   |   |   |--- feature_1 <= 283956.00\\n|   |   |   |   |   |   |   |   |   |--- feature_2 <= 9.50\\n|   |   |   |   |   |   |   |   |   |   |--- class: 0.0\\n|   |   |   |   |   |   |   |   |   |--- feature_2 >  9.50\\n|   |   |   |   |   |   |   |   |   |   |--- class: 1.0\\n|   |   |   |   |   |   |   |   |--- feature_1 >  283956.00\\n|   |   |   |   |   |   |   |   |   |--- class: 0.0\\n|   |   |   |   |   |   |   |--- feature_2 >  13.50\\n|   |   |   |   |   |   |   |   |--- class: 1.0\\n|   |   |   |   |   |   |--- feature_80 >  0.50\\n|   |   |   |   |   |   |   |--- class: 0.0\\n|   |   |   |   |   |--- feature_8 >  0.50\\n|   |   |   |   |   |   |--- feature_0 <= 24.50\\n|   |   |   |   |   |   |   |--- class: 0.0\\n|   |   |   |   |   |   |--- feature_0 >  24.50\\n|   |   |   |   |   |   |   |--- class: 1.0\\n|   |   |   |--- feature_0 >  26.50\\n|   |   |   |   |--- feature_23 <= 0.50\\n|   |   |   |   |   |--- feature_81 <= 0.50\\n|   |   |   |   |   |   |--- feature_5 <= 15.50\\n|   |   |   |   |   |   |   |--- feature_8 <= 0.50\\n|   |   |   |   |   |   |   |   |--- feature_1 <= 295385.00\\n|   |   |   |   |   |   |   |   |   |--- feature_83 <= 0.50\\n|   |   |   |   |   |   |   |   |   |   |--- class: 1.0\\n|   |   |   |   |   |   |   |   |   |--- feature_83 >  0.50\\n|   |   |   |   |   |   |   |   |   |   |--- feature_15 <= 0.50\\n|   |   |   |   |   |   |   |   |   |   |   |--- truncated branch of depth 6\\n|   |   |   |   |   |   |   |   |   |   |--- feature_15 >  0.50\\n|   |   |   |   |   |   |   |   |   |   |   |--- truncated branch of depth 6\\n|   |   |   |   |   |   |   |   |--- feature_1 >  295385.00\\n|   |   |   |   |   |   |   |   |   |--- feature_12 <= 0.50\\n|   |   |   |   |   |   |   |   |   |   |--- class: 1.0\\n|   |   |   |   |   |   |   |   |   |--- feature_12 >  0.50\\n|   |   |   |   |   |   |   |   |   |   |--- feature_5 <= 3.00\\n|   |   |   |   |   |   |   |   |   |   |   |--- class: 0.0\\n|   |   |   |   |   |   |   |   |   |   |--- feature_5 >  3.00\\n|   |   |   |   |   |   |   |   |   |   |   |--- truncated branch of depth 2\\n|   |   |   |   |   |   |   |--- feature_8 >  0.50\\n|   |   |   |   |   |   |   |   |--- class: 0.0\\n|   |   |   |   |   |   |--- feature_5 >  15.50\\n|   |   |   |   |   |   |   |--- feature_88 <= 0.50\\n|   |   |   |   |   |   |   |   |--- feature_20 <= 0.50\\n|   |   |   |   |   |   |   |   |   |--- feature_5 <= 41.00\\n|   |   |   |   |   |   |   |   |   |   |--- feature_15 <= 0.50\\n|   |   |   |   |   |   |   |   |   |   |   |--- truncated branch of depth 29\\n|   |   |   |   |   |   |   |   |   |   |--- feature_15 >  0.50\\n|   |   |   |   |   |   |   |   |   |   |   |--- truncated branch of depth 13\\n|   |   |   |   |   |   |   |   |   |--- feature_5 >  41.00\\n|   |   |   |   |   |   |   |   |   |   |--- feature_0 <= 43.50\\n|   |   |   |   |   |   |   |   |   |   |   |--- truncated branch of depth 13\\n|   |   |   |   |   |   |   |   |   |   |--- feature_0 >  43.50\\n|   |   |   |   |   |   |   |   |   |   |   |--- truncated branch of depth 9\\n|   |   |   |   |   |   |   |   |--- feature_20 >  0.50\\n|   |   |   |   |   |   |   |   |   |--- class: 0.0\\n|   |   |   |   |   |   |   |--- feature_88 >  0.50\\n|   |   |   |   |   |   |   |   |--- feature_85 <= 0.50\\n|   |   |   |   |   |   |   |   |   |--- feature_1 <= 84949.00\\n|   |   |   |   |   |   |   |   |   |   |--- class: 0.0\\n|   |   |   |   |   |   |   |   |   |--- feature_1 >  84949.00\\n|   |   |   |   |   |   |   |   |   |   |--- feature_8 <= 0.50\\n|   |   |   |   |   |   |   |   |   |   |   |--- truncated branch of depth 2\\n|   |   |   |   |   |   |   |   |   |   |--- feature_8 >  0.50\\n|   |   |   |   |   |   |   |   |   |   |   |--- class: 1.0\\n|   |   |   |   |   |   |   |   |--- feature_85 >  0.50\\n|   |   |   |   |   |   |   |   |   |--- feature_8 <= 0.50\\n|   |   |   |   |   |   |   |   |   |   |--- feature_15 <= 0.50\\n|   |   |   |   |   |   |   |   |   |   |   |--- truncated branch of depth 4\\n|   |   |   |   |   |   |   |   |   |   |--- feature_15 >  0.50\\n|   |   |   |   |   |   |   |   |   |   |   |--- class: 0.0\\n|   |   |   |   |   |   |   |   |   |--- feature_8 >  0.50\\n|   |   |   |   |   |   |   |   |   |   |--- class: 0.0\\n|   |   |   |   |   |--- feature_81 >  0.50\\n|   |   |   |   |   |   |--- feature_12 <= 0.50\\n|   |   |   |   |   |   |   |--- feature_24 <= 0.50\\n|   |   |   |   |   |   |   |   |--- feature_3 <= 9466.00\\n|   |   |   |   |   |   |   |   |   |--- feature_19 <= 0.50\\n|   |   |   |   |   |   |   |   |   |   |--- feature_15 <= 0.50\\n|   |   |   |   |   |   |   |   |   |   |   |--- truncated branch of depth 8\\n|   |   |   |   |   |   |   |   |   |   |--- feature_15 >  0.50\\n|   |   |   |   |   |   |   |   |   |   |   |--- class: 0.0\\n|   |   |   |   |   |   |   |   |   |--- feature_19 >  0.50\\n|   |   |   |   |   |   |   |   |   |   |--- feature_2 <= 12.00\\n|   |   |   |   |   |   |   |   |   |   |   |--- truncated branch of depth 3\\n|   |   |   |   |   |   |   |   |   |   |--- feature_2 >  12.00\\n|   |   |   |   |   |   |   |   |   |   |   |--- class: 1.0\\n|   |   |   |   |   |   |   |   |--- feature_3 >  9466.00\\n|   |   |   |   |   |   |   |   |   |--- class: 1.0\\n|   |   |   |   |   |   |   |--- feature_24 >  0.50\\n|   |   |   |   |   |   |   |   |--- class: 0.0\\n|   |   |   |   |   |   |--- feature_12 >  0.50\\n|   |   |   |   |   |   |   |--- class: 1.0\\n|   |   |   |   |--- feature_23 >  0.50\\n|   |   |   |   |   |--- feature_88 <= 0.50\\n|   |   |   |   |   |   |--- feature_82 <= 0.50\\n|   |   |   |   |   |   |   |--- feature_11 <= 0.50\\n|   |   |   |   |   |   |   |   |--- feature_81 <= 0.50\\n|   |   |   |   |   |   |   |   |   |--- feature_12 <= 0.50\\n|   |   |   |   |   |   |   |   |   |   |--- feature_91 <= 0.50\\n|   |   |   |   |   |   |   |   |   |   |   |--- class: 0.0\\n|   |   |   |   |   |   |   |   |   |   |--- feature_91 >  0.50\\n|   |   |   |   |   |   |   |   |   |   |   |--- truncated branch of depth 8\\n|   |   |   |   |   |   |   |   |   |--- feature_12 >  0.50\\n|   |   |   |   |   |   |   |   |   |   |--- feature_1 <= 77948.50\\n|   |   |   |   |   |   |   |   |   |   |   |--- truncated branch of depth 2\\n|   |   |   |   |   |   |   |   |   |   |--- feature_1 >  77948.50\\n|   |   |   |   |   |   |   |   |   |   |   |--- class: 0.0\\n|   |   |   |   |   |   |   |   |--- feature_81 >  0.50\\n|   |   |   |   |   |   |   |   |   |--- feature_12 <= 0.50\\n|   |   |   |   |   |   |   |   |   |   |--- feature_1 <= 205006.00\\n|   |   |   |   |   |   |   |   |   |   |   |--- truncated branch of depth 5\\n|   |   |   |   |   |   |   |   |   |   |--- feature_1 >  205006.00\\n|   |   |   |   |   |   |   |   |   |   |   |--- class: 0.0\\n|   |   |   |   |   |   |   |   |   |--- feature_12 >  0.50\\n|   |   |   |   |   |   |   |   |   |   |--- class: 0.0\\n|   |   |   |   |   |   |   |--- feature_11 >  0.50\\n|   |   |   |   |   |   |   |   |--- class: 1.0\\n|   |   |   |   |   |   |--- feature_82 >  0.50\\n|   |   |   |   |   |   |   |--- class: 0.0\\n|   |   |   |   |   |--- feature_88 >  0.50\\n|   |   |   |   |   |   |--- class: 0.0\\n|--- feature_86 >  0.50\\n|   |--- feature_7 <= 0.50\\n|   |   |--- feature_2 <= 11.50\\n|   |   |   |--- feature_23 <= 0.50\\n|   |   |   |   |--- feature_3 <= 5095.50\\n|   |   |   |   |   |--- feature_19 <= 0.50\\n|   |   |   |   |   |   |--- feature_27 <= 0.50\\n|   |   |   |   |   |   |   |--- feature_28 <= 0.50\\n|   |   |   |   |   |   |   |   |--- feature_4 <= 1782.50\\n|   |   |   |   |   |   |   |   |   |--- feature_82 <= 0.50\\n|   |   |   |   |   |   |   |   |   |   |--- feature_12 <= 0.50\\n|   |   |   |   |   |   |   |   |   |   |   |--- truncated branch of depth 49\\n|   |   |   |   |   |   |   |   |   |   |--- feature_12 >  0.50\\n|   |   |   |   |   |   |   |   |   |   |   |--- truncated branch of depth 22\\n|   |   |   |   |   |   |   |   |   |--- feature_82 >  0.50\\n|   |   |   |   |   |   |   |   |   |   |--- feature_5 <= 52.00\\n|   |   |   |   |   |   |   |   |   |   |   |--- truncated branch of depth 6\\n|   |   |   |   |   |   |   |   |   |   |--- feature_5 >  52.00\\n|   |   |   |   |   |   |   |   |   |   |   |--- truncated branch of depth 2\\n|   |   |   |   |   |   |   |   |--- feature_4 >  1782.50\\n|   |   |   |   |   |   |   |   |   |--- feature_64 <= 0.50\\n|   |   |   |   |   |   |   |   |   |   |--- feature_1 <= 324149.00\\n|   |   |   |   |   |   |   |   |   |   |   |--- truncated branch of depth 15\\n|   |   |   |   |   |   |   |   |   |   |--- feature_1 >  324149.00\\n|   |   |   |   |   |   |   |   |   |   |   |--- class: 1.0\\n|   |   |   |   |   |   |   |   |   |--- feature_64 >  0.50\\n|   |   |   |   |   |   |   |   |   |   |--- class: 1.0\\n|   |   |   |   |   |   |   |--- feature_28 >  0.50\\n|   |   |   |   |   |   |   |   |--- feature_4 <= 943.50\\n|   |   |   |   |   |   |   |   |   |--- feature_0 <= 41.50\\n|   |   |   |   |   |   |   |   |   |   |--- feature_3 <= 3120.00\\n|   |   |   |   |   |   |   |   |   |   |   |--- truncated branch of depth 10\\n|   |   |   |   |   |   |   |   |   |   |--- feature_3 >  3120.00\\n|   |   |   |   |   |   |   |   |   |   |   |--- class: 0.0\\n|   |   |   |   |   |   |   |   |   |--- feature_0 >  41.50\\n|   |   |   |   |   |   |   |   |   |   |--- feature_83 <= 0.50\\n|   |   |   |   |   |   |   |   |   |   |   |--- class: 1.0\\n|   |   |   |   |   |   |   |   |   |   |--- feature_83 >  0.50\\n|   |   |   |   |   |   |   |   |   |   |   |--- truncated branch of depth 14\\n|   |   |   |   |   |   |   |   |--- feature_4 >  943.50\\n|   |   |   |   |   |   |   |   |   |--- class: 1.0\\n|   |   |   |   |   |   |--- feature_27 >  0.50\\n|   |   |   |   |   |   |   |--- feature_1 <= 366010.00\\n|   |   |   |   |   |   |   |   |--- feature_5 <= 29.00\\n|   |   |   |   |   |   |   |   |   |--- feature_1 <= 67859.00\\n|   |   |   |   |   |   |   |   |   |   |--- class: 1.0\\n|   |   |   |   |   |   |   |   |   |--- feature_1 >  67859.00\\n|   |   |   |   |   |   |   |   |   |   |--- feature_10 <= 0.50\\n|   |   |   |   |   |   |   |   |   |   |   |--- truncated branch of depth 5\\n|   |   |   |   |   |   |   |   |   |   |--- feature_10 >  0.50\\n|   |   |   |   |   |   |   |   |   |   |   |--- truncated branch of depth 7\\n|   |   |   |   |   |   |   |   |--- feature_5 >  29.00\\n|   |   |   |   |   |   |   |   |   |--- feature_3 <= 3267.50\\n|   |   |   |   |   |   |   |   |   |   |--- feature_11 <= 0.50\\n|   |   |   |   |   |   |   |   |   |   |   |--- truncated branch of depth 29\\n|   |   |   |   |   |   |   |   |   |   |--- feature_11 >  0.50\\n|   |   |   |   |   |   |   |   |   |   |   |--- truncated branch of depth 17\\n|   |   |   |   |   |   |   |   |   |--- feature_3 >  3267.50\\n|   |   |   |   |   |   |   |   |   |   |--- feature_12 <= 0.50\\n|   |   |   |   |   |   |   |   |   |   |   |--- truncated branch of depth 4\\n|   |   |   |   |   |   |   |   |   |   |--- feature_12 >  0.50\\n|   |   |   |   |   |   |   |   |   |   |   |--- class: 0.0\\n|   |   |   |   |   |   |   |--- feature_1 >  366010.00\\n|   |   |   |   |   |   |   |   |--- feature_1 <= 399238.50\\n|   |   |   |   |   |   |   |   |   |--- feature_10 <= 0.50\\n|   |   |   |   |   |   |   |   |   |   |--- class: 1.0\\n|   |   |   |   |   |   |   |   |   |--- feature_10 >  0.50\\n|   |   |   |   |   |   |   |   |   |   |--- feature_1 <= 391878.50\\n|   |   |   |   |   |   |   |   |   |   |   |--- class: 1.0\\n|   |   |   |   |   |   |   |   |   |   |--- feature_1 >  391878.50\\n|   |   |   |   |   |   |   |   |   |   |   |--- class: 0.0\\n|   |   |   |   |   |   |   |   |--- feature_1 >  399238.50\\n|   |   |   |   |   |   |   |   |   |--- feature_1 <= 414440.00\\n|   |   |   |   |   |   |   |   |   |   |--- class: 0.0\\n|   |   |   |   |   |   |   |   |   |--- feature_1 >  414440.00\\n|   |   |   |   |   |   |   |   |   |   |--- feature_0 <= 31.00\\n|   |   |   |   |   |   |   |   |   |   |   |--- truncated branch of depth 3\\n|   |   |   |   |   |   |   |   |   |   |--- feature_0 >  31.00\\n|   |   |   |   |   |   |   |   |   |   |   |--- class: 1.0\\n|   |   |   |   |   |--- feature_19 >  0.50\\n|   |   |   |   |   |   |--- feature_83 <= 0.50\\n|   |   |   |   |   |   |   |--- feature_81 <= 0.50\\n|   |   |   |   |   |   |   |   |--- feature_76 <= 0.50\\n|   |   |   |   |   |   |   |   |   |--- feature_0 <= 36.50\\n|   |   |   |   |   |   |   |   |   |   |--- class: 1.0\\n|   |   |   |   |   |   |   |   |   |--- feature_0 >  36.50\\n|   |   |   |   |   |   |   |   |   |   |--- class: 0.0\\n|   |   |   |   |   |   |   |   |--- feature_76 >  0.50\\n|   |   |   |   |   |   |   |   |   |--- class: 0.0\\n|   |   |   |   |   |   |   |--- feature_81 >  0.50\\n|   |   |   |   |   |   |   |   |--- feature_76 <= 0.50\\n|   |   |   |   |   |   |   |   |   |--- class: 0.0\\n|   |   |   |   |   |   |   |   |--- feature_76 >  0.50\\n|   |   |   |   |   |   |   |   |   |--- feature_0 <= 53.00\\n|   |   |   |   |   |   |   |   |   |   |--- feature_4 <= 943.50\\n|   |   |   |   |   |   |   |   |   |   |   |--- truncated branch of depth 3\\n|   |   |   |   |   |   |   |   |   |   |--- feature_4 >  943.50\\n|   |   |   |   |   |   |   |   |   |   |   |--- class: 1.0\\n|   |   |   |   |   |   |   |   |   |--- feature_0 >  53.00\\n|   |   |   |   |   |   |   |   |   |   |--- class: 0.0\\n|   |   |   |   |   |   |--- feature_83 >  0.50\\n|   |   |   |   |   |   |   |--- feature_1 <= 132740.00\\n|   |   |   |   |   |   |   |   |--- feature_55 <= 0.50\\n|   |   |   |   |   |   |   |   |   |--- feature_0 <= 35.50\\n|   |   |   |   |   |   |   |   |   |   |--- feature_2 <= 8.00\\n|   |   |   |   |   |   |   |   |   |   |   |--- truncated branch of depth 2\\n|   |   |   |   |   |   |   |   |   |   |--- feature_2 >  8.00\\n|   |   |   |   |   |   |   |   |   |   |   |--- truncated branch of depth 9\\n|   |   |   |   |   |   |   |   |   |--- feature_0 >  35.50\\n|   |   |   |   |   |   |   |   |   |   |--- feature_1 <= 29995.00\\n|   |   |   |   |   |   |   |   |   |   |   |--- truncated branch of depth 3\\n|   |   |   |   |   |   |   |   |   |   |--- feature_1 >  29995.00\\n|   |   |   |   |   |   |   |   |   |   |   |--- truncated branch of depth 19\\n|   |   |   |   |   |   |   |   |--- feature_55 >  0.50\\n|   |   |   |   |   |   |   |   |   |--- class: 0.0\\n|   |   |   |   |   |   |   |--- feature_1 >  132740.00\\n|   |   |   |   |   |   |   |   |--- feature_59 <= 0.50\\n|   |   |   |   |   |   |   |   |   |--- feature_1 <= 368679.00\\n|   |   |   |   |   |   |   |   |   |   |--- feature_5 <= 27.50\\n|   |   |   |   |   |   |   |   |   |   |   |--- class: 0.0\\n|   |   |   |   |   |   |   |   |   |   |--- feature_5 >  27.50\\n|   |   |   |   |   |   |   |   |   |   |   |--- truncated branch of depth 23\\n|   |   |   |   |   |   |   |   |   |--- feature_1 >  368679.00\\n|   |   |   |   |   |   |   |   |   |   |--- feature_5 <= 42.50\\n|   |   |   |   |   |   |   |   |   |   |   |--- truncated branch of depth 6\\n|   |   |   |   |   |   |   |   |   |   |--- feature_5 >  42.50\\n|   |   |   |   |   |   |   |   |   |   |   |--- truncated branch of depth 5\\n|   |   |   |   |   |   |   |   |--- feature_59 >  0.50\\n|   |   |   |   |   |   |   |   |   |--- class: 1.0\\n|   |   |   |   |--- feature_3 >  5095.50\\n|   |   |   |   |   |--- feature_19 <= 0.50\\n|   |   |   |   |   |   |--- feature_26 <= 0.50\\n|   |   |   |   |   |   |   |--- feature_21 <= 0.50\\n|   |   |   |   |   |   |   |   |--- feature_11 <= 0.50\\n|   |   |   |   |   |   |   |   |   |--- feature_2 <= 4.50\\n|   |   |   |   |   |   |   |   |   |   |--- feature_83 <= 0.50\\n|   |   |   |   |   |   |   |   |   |   |   |--- truncated branch of depth 2\\n|   |   |   |   |   |   |   |   |   |   |--- feature_83 >  0.50\\n|   |   |   |   |   |   |   |   |   |   |   |--- class: 1.0\\n|   |   |   |   |   |   |   |   |   |--- feature_2 >  4.50\\n|   |   |   |   |   |   |   |   |   |   |--- feature_1 <= 92427.00\\n|   |   |   |   |   |   |   |   |   |   |   |--- truncated branch of depth 6\\n|   |   |   |   |   |   |   |   |   |   |--- feature_1 >  92427.00\\n|   |   |   |   |   |   |   |   |   |   |   |--- class: 1.0\\n|   |   |   |   |   |   |   |   |--- feature_11 >  0.50\\n|   |   |   |   |   |   |   |   |   |--- class: 1.0\\n|   |   |   |   |   |   |   |--- feature_21 >  0.50\\n|   |   |   |   |   |   |   |   |--- class: 1.0\\n|   |   |   |   |   |   |--- feature_26 >  0.50\\n|   |   |   |   |   |   |   |--- feature_5 <= 27.50\\n|   |   |   |   |   |   |   |   |--- class: 0.0\\n|   |   |   |   |   |   |   |--- feature_5 >  27.50\\n|   |   |   |   |   |   |   |   |--- class: 1.0\\n|   |   |   |   |   |--- feature_19 >  0.50\\n|   |   |   |   |   |   |--- class: 1.0\\n|   |   |   |--- feature_23 >  0.50\\n|   |   |   |   |--- feature_61 <= 0.50\\n|   |   |   |   |   |--- feature_82 <= 0.50\\n|   |   |   |   |   |   |--- feature_50 <= 0.50\\n|   |   |   |   |   |   |   |--- feature_3 <= 7227.50\\n|   |   |   |   |   |   |   |   |--- feature_42 <= 0.50\\n|   |   |   |   |   |   |   |   |   |--- feature_37 <= 0.50\\n|   |   |   |   |   |   |   |   |   |   |--- feature_59 <= 0.50\\n|   |   |   |   |   |   |   |   |   |   |   |--- truncated branch of depth 20\\n|   |   |   |   |   |   |   |   |   |   |--- feature_59 >  0.50\\n|   |   |   |   |   |   |   |   |   |   |   |--- class: 0.0\\n|   |   |   |   |   |   |   |   |   |--- feature_37 >  0.50\\n|   |   |   |   |   |   |   |   |   |   |--- class: 0.0\\n|   |   |   |   |   |   |   |   |--- feature_42 >  0.50\\n|   |   |   |   |   |   |   |   |   |--- class: 0.0\\n|   |   |   |   |   |   |   |--- feature_3 >  7227.50\\n|   |   |   |   |   |   |   |   |--- class: 1.0\\n|   |   |   |   |   |   |--- feature_50 >  0.50\\n|   |   |   |   |   |   |   |--- class: 0.0\\n|   |   |   |   |   |--- feature_82 >  0.50\\n|   |   |   |   |   |   |--- class: 0.0\\n|   |   |   |   |--- feature_61 >  0.50\\n|   |   |   |   |   |--- class: 1.0\\n|   |   |--- feature_2 >  11.50\\n|   |   |   |--- feature_5 <= 31.00\\n|   |   |   |   |--- feature_4 <= 2144.00\\n|   |   |   |   |   |--- feature_18 <= 0.50\\n|   |   |   |   |   |   |--- feature_76 <= 0.50\\n|   |   |   |   |   |   |   |--- feature_13 <= 0.50\\n|   |   |   |   |   |   |   |   |--- feature_80 <= 0.50\\n|   |   |   |   |   |   |   |   |   |--- feature_45 <= 0.50\\n|   |   |   |   |   |   |   |   |   |   |--- feature_25 <= 0.50\\n|   |   |   |   |   |   |   |   |   |   |   |--- truncated branch of depth 2\\n|   |   |   |   |   |   |   |   |   |   |--- feature_25 >  0.50\\n|   |   |   |   |   |   |   |   |   |   |   |--- class: 1.0\\n|   |   |   |   |   |   |   |   |   |--- feature_45 >  0.50\\n|   |   |   |   |   |   |   |   |   |   |--- class: 0.0\\n|   |   |   |   |   |   |   |   |--- feature_80 >  0.50\\n|   |   |   |   |   |   |   |   |   |--- class: 0.0\\n|   |   |   |   |   |   |   |--- feature_13 >  0.50\\n|   |   |   |   |   |   |   |   |--- class: 0.0\\n|   |   |   |   |   |   |--- feature_76 >  0.50\\n|   |   |   |   |   |   |   |--- feature_2 <= 15.50\\n|   |   |   |   |   |   |   |   |--- feature_13 <= 0.50\\n|   |   |   |   |   |   |   |   |   |--- feature_10 <= 0.50\\n|   |   |   |   |   |   |   |   |   |   |--- feature_83 <= 0.50\\n|   |   |   |   |   |   |   |   |   |   |   |--- truncated branch of depth 3\\n|   |   |   |   |   |   |   |   |   |   |--- feature_83 >  0.50\\n|   |   |   |   |   |   |   |   |   |   |   |--- truncated branch of depth 10\\n|   |   |   |   |   |   |   |   |   |--- feature_10 >  0.50\\n|   |   |   |   |   |   |   |   |   |   |--- feature_3 <= 3257.00\\n|   |   |   |   |   |   |   |   |   |   |   |--- truncated branch of depth 10\\n|   |   |   |   |   |   |   |   |   |   |--- feature_3 >  3257.00\\n|   |   |   |   |   |   |   |   |   |   |   |--- class: 1.0\\n|   |   |   |   |   |   |   |   |--- feature_13 >  0.50\\n|   |   |   |   |   |   |   |   |   |--- class: 0.0\\n|   |   |   |   |   |   |   |--- feature_2 >  15.50\\n|   |   |   |   |   |   |   |   |--- feature_19 <= 0.50\\n|   |   |   |   |   |   |   |   |   |--- feature_11 <= 0.50\\n|   |   |   |   |   |   |   |   |   |   |--- feature_10 <= 0.50\\n|   |   |   |   |   |   |   |   |   |   |   |--- truncated branch of depth 4\\n|   |   |   |   |   |   |   |   |   |   |--- feature_10 >  0.50\\n|   |   |   |   |   |   |   |   |   |   |   |--- class: 0.0\\n|   |   |   |   |   |   |   |   |   |--- feature_11 >  0.50\\n|   |   |   |   |   |   |   |   |   |   |--- class: 1.0\\n|   |   |   |   |   |   |   |   |--- feature_19 >  0.50\\n|   |   |   |   |   |   |   |   |   |--- class: 1.0\\n|   |   |   |   |   |--- feature_18 >  0.50\\n|   |   |   |   |   |   |--- feature_5 <= 17.50\\n|   |   |   |   |   |   |   |--- class: 0.0\\n|   |   |   |   |   |   |--- feature_5 >  17.50\\n|   |   |   |   |   |   |   |--- feature_2 <= 12.50\\n|   |   |   |   |   |   |   |   |--- class: 0.0\\n|   |   |   |   |   |   |   |--- feature_2 >  12.50\\n|   |   |   |   |   |   |   |   |--- feature_10 <= 0.50\\n|   |   |   |   |   |   |   |   |   |--- class: 0.0\\n|   |   |   |   |   |   |   |   |--- feature_10 >  0.50\\n|   |   |   |   |   |   |   |   |   |--- class: 1.0\\n|   |   |   |   |--- feature_4 >  2144.00\\n|   |   |   |   |   |--- class: 1.0\\n|   |   |   |--- feature_5 >  31.00\\n|   |   |   |   |--- feature_0 <= 29.50\\n|   |   |   |   |   |--- feature_54 <= 0.50\\n|   |   |   |   |   |   |--- feature_6 <= 0.50\\n|   |   |   |   |   |   |   |--- feature_1 <= 35426.50\\n|   |   |   |   |   |   |   |   |--- class: 0.0\\n|   |   |   |   |   |   |   |--- feature_1 >  35426.50\\n|   |   |   |   |   |   |   |   |--- feature_83 <= 0.50\\n|   |   |   |   |   |   |   |   |   |--- feature_0 <= 25.50\\n|   |   |   |   |   |   |   |   |   |   |--- class: 0.0\\n|   |   |   |   |   |   |   |   |   |--- feature_0 >  25.50\\n|   |   |   |   |   |   |   |   |   |   |--- feature_60 <= 0.50\\n|   |   |   |   |   |   |   |   |   |   |   |--- truncated branch of depth 4\\n|   |   |   |   |   |   |   |   |   |   |--- feature_60 >  0.50\\n|   |   |   |   |   |   |   |   |   |   |   |--- class: 0.0\\n|   |   |   |   |   |   |   |   |--- feature_83 >  0.50\\n|   |   |   |   |   |   |   |   |   |--- feature_19 <= 0.50\\n|   |   |   |   |   |   |   |   |   |   |--- feature_21 <= 0.50\\n|   |   |   |   |   |   |   |   |   |   |   |--- truncated branch of depth 19\\n|   |   |   |   |   |   |   |   |   |   |--- feature_21 >  0.50\\n|   |   |   |   |   |   |   |   |   |   |   |--- truncated branch of depth 2\\n|   |   |   |   |   |   |   |   |   |--- feature_19 >  0.50\\n|   |   |   |   |   |   |   |   |   |   |--- feature_10 <= 0.50\\n|   |   |   |   |   |   |   |   |   |   |   |--- truncated branch of depth 2\\n|   |   |   |   |   |   |   |   |   |   |--- feature_10 >  0.50\\n|   |   |   |   |   |   |   |   |   |   |   |--- truncated branch of depth 10\\n|   |   |   |   |   |   |--- feature_6 >  0.50\\n|   |   |   |   |   |   |   |--- class: 0.0\\n|   |   |   |   |   |--- feature_54 >  0.50\\n|   |   |   |   |   |   |--- class: 1.0\\n|   |   |   |   |--- feature_0 >  29.50\\n|   |   |   |   |   |--- feature_23 <= 0.50\\n|   |   |   |   |   |   |--- feature_76 <= 0.50\\n|   |   |   |   |   |   |   |--- feature_2 <= 14.50\\n|   |   |   |   |   |   |   |   |--- feature_47 <= 0.50\\n|   |   |   |   |   |   |   |   |   |--- feature_83 <= 0.50\\n|   |   |   |   |   |   |   |   |   |   |--- feature_56 <= 0.50\\n|   |   |   |   |   |   |   |   |   |   |   |--- truncated branch of depth 13\\n|   |   |   |   |   |   |   |   |   |   |--- feature_56 >  0.50\\n|   |   |   |   |   |   |   |   |   |   |   |--- truncated branch of depth 7\\n|   |   |   |   |   |   |   |   |   |--- feature_83 >  0.50\\n|   |   |   |   |   |   |   |   |   |   |--- feature_57 <= 0.50\\n|   |   |   |   |   |   |   |   |   |   |   |--- truncated branch of depth 20\\n|   |   |   |   |   |   |   |   |   |   |--- feature_57 >  0.50\\n|   |   |   |   |   |   |   |   |   |   |   |--- class: 0.0\\n|   |   |   |   |   |   |   |   |--- feature_47 >  0.50\\n|   |   |   |   |   |   |   |   |   |--- class: 1.0\\n|   |   |   |   |   |   |   |--- feature_2 >  14.50\\n|   |   |   |   |   |   |   |   |--- feature_10 <= 0.50\\n|   |   |   |   |   |   |   |   |   |--- feature_45 <= 0.50\\n|   |   |   |   |   |   |   |   |   |   |--- feature_37 <= 0.50\\n|   |   |   |   |   |   |   |   |   |   |   |--- truncated branch of depth 6\\n|   |   |   |   |   |   |   |   |   |   |--- feature_37 >  0.50\\n|   |   |   |   |   |   |   |   |   |   |   |--- class: 1.0\\n|   |   |   |   |   |   |   |   |   |--- feature_45 >  0.50\\n|   |   |   |   |   |   |   |   |   |   |--- class: 1.0\\n|   |   |   |   |   |   |   |   |--- feature_10 >  0.50\\n|   |   |   |   |   |   |   |   |   |--- feature_83 <= 0.50\\n|   |   |   |   |   |   |   |   |   |   |--- feature_67 <= 0.50\\n|   |   |   |   |   |   |   |   |   |   |   |--- truncated branch of depth 8\\n|   |   |   |   |   |   |   |   |   |   |--- feature_67 >  0.50\\n|   |   |   |   |   |   |   |   |   |   |   |--- class: 0.0\\n|   |   |   |   |   |   |   |   |   |--- feature_83 >  0.50\\n|   |   |   |   |   |   |   |   |   |   |--- feature_25 <= 0.50\\n|   |   |   |   |   |   |   |   |   |   |   |--- truncated branch of depth 4\\n|   |   |   |   |   |   |   |   |   |   |--- feature_25 >  0.50\\n|   |   |   |   |   |   |   |   |   |   |   |--- truncated branch of depth 4\\n|   |   |   |   |   |   |--- feature_76 >  0.50\\n|   |   |   |   |   |   |   |--- feature_29 <= 0.50\\n|   |   |   |   |   |   |   |   |--- feature_18 <= 0.50\\n|   |   |   |   |   |   |   |   |   |--- feature_4 <= 1794.00\\n|   |   |   |   |   |   |   |   |   |   |--- feature_21 <= 0.50\\n|   |   |   |   |   |   |   |   |   |   |   |--- truncated branch of depth 31\\n|   |   |   |   |   |   |   |   |   |   |--- feature_21 >  0.50\\n|   |   |   |   |   |   |   |   |   |   |   |--- truncated branch of depth 4\\n|   |   |   |   |   |   |   |   |   |--- feature_4 >  1794.00\\n|   |   |   |   |   |   |   |   |   |   |--- feature_4 <= 1989.50\\n|   |   |   |   |   |   |   |   |   |   |   |--- class: 1.0\\n|   |   |   |   |   |   |   |   |   |   |--- feature_4 >  1989.50\\n|   |   |   |   |   |   |   |   |   |   |   |--- truncated branch of depth 6\\n|   |   |   |   |   |   |   |   |--- feature_18 >  0.50\\n|   |   |   |   |   |   |   |   |   |--- feature_12 <= 0.50\\n|   |   |   |   |   |   |   |   |   |   |--- feature_8 <= 0.50\\n|   |   |   |   |   |   |   |   |   |   |   |--- truncated branch of depth 15\\n|   |   |   |   |   |   |   |   |   |   |--- feature_8 >  0.50\\n|   |   |   |   |   |   |   |   |   |   |   |--- truncated branch of depth 4\\n|   |   |   |   |   |   |   |   |   |--- feature_12 >  0.50\\n|   |   |   |   |   |   |   |   |   |   |--- feature_1 <= 179842.00\\n|   |   |   |   |   |   |   |   |   |   |   |--- truncated branch of depth 3\\n|   |   |   |   |   |   |   |   |   |   |--- feature_1 >  179842.00\\n|   |   |   |   |   |   |   |   |   |   |   |--- truncated branch of depth 5\\n|   |   |   |   |   |   |   |--- feature_29 >  0.50\\n|   |   |   |   |   |   |   |   |--- feature_81 <= 0.50\\n|   |   |   |   |   |   |   |   |   |--- feature_1 <= 178424.50\\n|   |   |   |   |   |   |   |   |   |   |--- feature_3 <= 3844.00\\n|   |   |   |   |   |   |   |   |   |   |   |--- truncated branch of depth 2\\n|   |   |   |   |   |   |   |   |   |   |--- feature_3 >  3844.00\\n|   |   |   |   |   |   |   |   |   |   |   |--- class: 1.0\\n|   |   |   |   |   |   |   |   |   |--- feature_1 >  178424.50\\n|   |   |   |   |   |   |   |   |   |   |--- feature_0 <= 47.50\\n|   |   |   |   |   |   |   |   |   |   |   |--- truncated branch of depth 2\\n|   |   |   |   |   |   |   |   |   |   |--- feature_0 >  47.50\\n|   |   |   |   |   |   |   |   |   |   |   |--- truncated branch of depth 2\\n|   |   |   |   |   |   |   |   |--- feature_81 >  0.50\\n|   |   |   |   |   |   |   |   |   |--- feature_1 <= 397789.50\\n|   |   |   |   |   |   |   |   |   |   |--- class: 1.0\\n|   |   |   |   |   |   |   |   |   |--- feature_1 >  397789.50\\n|   |   |   |   |   |   |   |   |   |   |--- class: 0.0\\n|   |   |   |   |   |--- feature_23 >  0.50\\n|   |   |   |   |   |   |--- feature_77 <= 0.50\\n|   |   |   |   |   |   |   |--- feature_76 <= 0.50\\n|   |   |   |   |   |   |   |   |--- class: 0.0\\n|   |   |   |   |   |   |   |--- feature_76 >  0.50\\n|   |   |   |   |   |   |   |   |--- feature_10 <= 0.50\\n|   |   |   |   |   |   |   |   |   |--- class: 0.0\\n|   |   |   |   |   |   |   |   |--- feature_10 >  0.50\\n|   |   |   |   |   |   |   |   |   |--- feature_0 <= 32.50\\n|   |   |   |   |   |   |   |   |   |   |--- class: 1.0\\n|   |   |   |   |   |   |   |   |   |--- feature_0 >  32.50\\n|   |   |   |   |   |   |   |   |   |   |--- feature_2 <= 13.50\\n|   |   |   |   |   |   |   |   |   |   |   |--- truncated branch of depth 3\\n|   |   |   |   |   |   |   |   |   |   |--- feature_2 >  13.50\\n|   |   |   |   |   |   |   |   |   |   |   |--- class: 0.0\\n|   |   |   |   |   |   |--- feature_77 >  0.50\\n|   |   |   |   |   |   |   |--- class: 0.0\\n|   |--- feature_7 >  0.50\\n|   |   |--- feature_0 <= 27.50\\n|   |   |   |--- feature_3 <= 2032.00\\n|   |   |   |   |--- feature_16 <= 0.50\\n|   |   |   |   |   |--- feature_25 <= 0.50\\n|   |   |   |   |   |   |--- feature_1 <= 261574.00\\n|   |   |   |   |   |   |   |--- class: 0.0\\n|   |   |   |   |   |   |--- feature_1 >  261574.00\\n|   |   |   |   |   |   |   |--- class: 1.0\\n|   |   |   |   |   |--- feature_25 >  0.50\\n|   |   |   |   |   |   |--- class: 0.0\\n|   |   |   |   |--- feature_16 >  0.50\\n|   |   |   |   |   |--- class: 0.0\\n|   |   |   |--- feature_3 >  2032.00\\n|   |   |   |   |--- class: 0.0\\n|   |   |--- feature_0 >  27.50\\n|   |   |   |--- feature_62 <= 0.50\\n|   |   |   |   |--- feature_18 <= 0.50\\n|   |   |   |   |   |--- feature_77 <= 0.50\\n|   |   |   |   |   |   |--- feature_81 <= 0.50\\n|   |   |   |   |   |   |   |--- feature_2 <= 12.50\\n|   |   |   |   |   |   |   |   |--- feature_4 <= 2014.00\\n|   |   |   |   |   |   |   |   |   |--- feature_5 <= 39.00\\n|   |   |   |   |   |   |   |   |   |   |--- class: 0.0\\n|   |   |   |   |   |   |   |   |   |--- feature_5 >  39.00\\n|   |   |   |   |   |   |   |   |   |   |--- feature_37 <= 0.50\\n|   |   |   |   |   |   |   |   |   |   |   |--- truncated branch of depth 18\\n|   |   |   |   |   |   |   |   |   |   |--- feature_37 >  0.50\\n|   |   |   |   |   |   |   |   |   |   |   |--- class: 0.0\\n|   |   |   |   |   |   |   |   |--- feature_4 >  2014.00\\n|   |   |   |   |   |   |   |   |   |--- class: 0.0\\n|   |   |   |   |   |   |   |--- feature_2 >  12.50\\n|   |   |   |   |   |   |   |   |--- feature_61 <= 0.50\\n|   |   |   |   |   |   |   |   |   |--- feature_4 <= 1952.00\\n|   |   |   |   |   |   |   |   |   |   |--- feature_4 <= 924.00\\n|   |   |   |   |   |   |   |   |   |   |   |--- truncated branch of depth 15\\n|   |   |   |   |   |   |   |   |   |   |--- feature_4 >  924.00\\n|   |   |   |   |   |   |   |   |   |   |   |--- truncated branch of depth 3\\n|   |   |   |   |   |   |   |   |   |--- feature_4 >  1952.00\\n|   |   |   |   |   |   |   |   |   |   |--- feature_4 <= 2208.50\\n|   |   |   |   |   |   |   |   |   |   |   |--- class: 0.0\\n|   |   |   |   |   |   |   |   |   |   |--- feature_4 >  2208.50\\n|   |   |   |   |   |   |   |   |   |   |   |--- class: 1.0\\n|   |   |   |   |   |   |   |   |--- feature_61 >  0.50\\n|   |   |   |   |   |   |   |   |   |--- class: 0.0\\n|   |   |   |   |   |   |--- feature_81 >  0.50\\n|   |   |   |   |   |   |   |--- feature_2 <= 12.50\\n|   |   |   |   |   |   |   |   |--- feature_1 <= 282663.00\\n|   |   |   |   |   |   |   |   |   |--- feature_28 <= 0.50\\n|   |   |   |   |   |   |   |   |   |   |--- feature_23 <= 0.50\\n|   |   |   |   |   |   |   |   |   |   |   |--- truncated branch of depth 6\\n|   |   |   |   |   |   |   |   |   |   |--- feature_23 >  0.50\\n|   |   |   |   |   |   |   |   |   |   |   |--- class: 0.0\\n|   |   |   |   |   |   |   |   |   |--- feature_28 >  0.50\\n|   |   |   |   |   |   |   |   |   |   |--- class: 0.0\\n|   |   |   |   |   |   |   |   |--- feature_1 >  282663.00\\n|   |   |   |   |   |   |   |   |   |--- class: 0.0\\n|   |   |   |   |   |   |   |--- feature_2 >  12.50\\n|   |   |   |   |   |   |   |   |--- class: 1.0\\n|   |   |   |   |   |--- feature_77 >  0.50\\n|   |   |   |   |   |   |--- class: 1.0\\n|   |   |   |   |--- feature_18 >  0.50\\n|   |   |   |   |   |--- feature_83 <= 0.50\\n|   |   |   |   |   |   |--- class: 1.0\\n|   |   |   |   |   |--- feature_83 >  0.50\\n|   |   |   |   |   |   |--- feature_1 <= 300827.00\\n|   |   |   |   |   |   |   |--- feature_4 <= 789.50\\n|   |   |   |   |   |   |   |   |--- feature_5 <= 41.50\\n|   |   |   |   |   |   |   |   |   |--- feature_2 <= 9.50\\n|   |   |   |   |   |   |   |   |   |   |--- feature_0 <= 53.50\\n|   |   |   |   |   |   |   |   |   |   |   |--- class: 1.0\\n|   |   |   |   |   |   |   |   |   |   |--- feature_0 >  53.50\\n|   |   |   |   |   |   |   |   |   |   |   |--- class: 0.0\\n|   |   |   |   |   |   |   |   |   |--- feature_2 >  9.50\\n|   |   |   |   |   |   |   |   |   |   |--- feature_1 <= 285007.50\\n|   |   |   |   |   |   |   |   |   |   |   |--- truncated branch of depth 5\\n|   |   |   |   |   |   |   |   |   |   |--- feature_1 >  285007.50\\n|   |   |   |   |   |   |   |   |   |   |   |--- class: 0.0\\n|   |   |   |   |   |   |   |   |--- feature_5 >  41.50\\n|   |   |   |   |   |   |   |   |   |--- class: 0.0\\n|   |   |   |   |   |   |   |--- feature_4 >  789.50\\n|   |   |   |   |   |   |   |   |--- class: 0.0\\n|   |   |   |   |   |   |--- feature_1 >  300827.00\\n|   |   |   |   |   |   |   |--- class: 1.0\\n|   |   |   |--- feature_62 >  0.50\\n|   |   |   |   |--- class: 0.0\\n'"
            ]
          },
          "metadata": {
            "tags": []
          },
          "execution_count": 27
        }
      ]
    },
    {
      "cell_type": "code",
      "metadata": {
        "id": "_cJ7ye0M_J3K",
        "colab_type": "code",
        "colab": {}
      },
      "source": [
        "import graphviz\n",
        "#library for graphing trees"
      ],
      "execution_count": 0,
      "outputs": []
    },
    {
      "cell_type": "code",
      "metadata": {
        "id": "DUUEl8ue_-rF",
        "colab_type": "code",
        "colab": {}
      },
      "source": [
        "from sklearn import tree\n",
        "import pydotplus\n",
        "#library for turning dot files (tree files) into graphs"
      ],
      "execution_count": 0,
      "outputs": []
    },
    {
      "cell_type": "code",
      "metadata": {
        "id": "_W2ubnXqACrY",
        "colab_type": "code",
        "colab": {}
      },
      "source": [
        "dot=tree.export_graphviz(decision,feature_names=X_train.columns,filled=True,rounded=True)\n",
        "#make the dot file"
      ],
      "execution_count": 0,
      "outputs": []
    },
    {
      "cell_type": "code",
      "metadata": {
        "id": "Dq5a0507AIdT",
        "colab_type": "code",
        "colab": {}
      },
      "source": [
        "graph = pydotplus.graph_from_dot_data(dot)\n",
        "#make the graph from the dot file"
      ],
      "execution_count": 0,
      "outputs": []
    },
    {
      "cell_type": "code",
      "metadata": {
        "id": "ZAhONnt8AhIV",
        "colab_type": "code",
        "colab": {
          "base_uri": "https://localhost:8080/",
          "height": 34
        },
        "outputId": "9f0fb024-a7c1-49f9-9fbf-26e98c57a542"
      },
      "source": [
        "graph.write_jpeg('decision.jpeg')\n",
        "#make the graph into a jpeg"
      ],
      "execution_count": 32,
      "outputs": [
        {
          "output_type": "execute_result",
          "data": {
            "text/plain": [
              "True"
            ]
          },
          "metadata": {
            "tags": []
          },
          "execution_count": 32
        }
      ]
    },
    {
      "cell_type": "markdown",
      "metadata": {
        "id": "NHaPNui1IGO8",
        "colab_type": "text"
      },
      "source": [
        "Conclusion:\n",
        "My findings are that the most important features to a business trying to find customers who make more than $50,000 per year to look at the age, education, and marrital status. These are the easiest things to find out about people and they are all near the top of the most important features.\n",
        "\n",
        "I would also look at factors like location,and other demographic data as these account for the top feature which is a \"demographic\" numerical score based on the demographics. "
      ]
    }
  ]
}